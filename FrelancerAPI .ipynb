{
 "cells": [
  {
   "cell_type": "code",
   "execution_count": 50,
   "metadata": {},
   "outputs": [],
   "source": [
    "import json\n",
    "import requests\n",
    "import pandas as pd"
   ]
  },
  {
   "cell_type": "markdown",
   "metadata": {},
   "source": [
    "## API call"
   ]
  },
  {
   "cell_type": "code",
   "execution_count": 55,
   "metadata": {},
   "outputs": [],
   "source": [
    "url = 'https://www.freelancer.com/api/projects/0.1/projects/active/?compact=&job_details=true'\n",
    "# url = 'https://www.freelancer.com/api/projects/0.1/projects/active/?compact=&job_details=true&full_description=&query=Websites, IT %26 Software'\n",
    "response = requests.get(url)\n",
    "\n",
    "results = response.json()\n"
   ]
  },
  {
   "cell_type": "markdown",
   "metadata": {},
   "source": [
    "## Access the list of job offers"
   ]
  },
  {
   "cell_type": "code",
   "execution_count": 56,
   "metadata": {},
   "outputs": [],
   "source": [
    "projects = results['result']['projects']"
   ]
  },
  {
   "cell_type": "markdown",
   "metadata": {},
   "source": [
    "## Gets all the job offer titles"
   ]
  },
  {
   "cell_type": "code",
   "execution_count": 57,
   "metadata": {},
   "outputs": [],
   "source": [
    "titles = [project['title'] for project in projects]\n"
   ]
  },
  {
   "cell_type": "markdown",
   "metadata": {},
   "source": [
    "## Gets list of all technologies required for the job"
   ]
  },
  {
   "cell_type": "code",
   "execution_count": 58,
   "metadata": {},
   "outputs": [],
   "source": [
    "jobs = [project['jobs'] for project in projects]\n",
    "technologies = []\n",
    "\n",
    "for job in jobs:\n",
    "    technologies.append(\",\".join([tech['seo_url'] for tech in job]))"
   ]
  },
  {
   "cell_type": "markdown",
   "metadata": {},
   "source": [
    "## Data frame 🙃"
   ]
  },
  {
   "cell_type": "code",
   "execution_count": 59,
   "metadata": {},
   "outputs": [],
   "source": [
    "df = pd.DataFrame(titles, columns=['Title'])\n",
    "\n",
    "df['Technologies'] = technologies"
   ]
  },
  {
   "cell_type": "code",
   "execution_count": 48,
   "metadata": {},
   "outputs": [
    {
     "data": {
      "text/html": [
       "<div>\n",
       "<style scoped>\n",
       "    .dataframe tbody tr th:only-of-type {\n",
       "        vertical-align: middle;\n",
       "    }\n",
       "\n",
       "    .dataframe tbody tr th {\n",
       "        vertical-align: top;\n",
       "    }\n",
       "\n",
       "    .dataframe thead th {\n",
       "        text-align: right;\n",
       "    }\n",
       "</style>\n",
       "<table border=\"1\" class=\"dataframe\">\n",
       "  <thead>\n",
       "    <tr style=\"text-align: right;\">\n",
       "      <th></th>\n",
       "      <th>Title</th>\n",
       "      <th>Technologies</th>\n",
       "    </tr>\n",
       "  </thead>\n",
       "  <tbody>\n",
       "    <tr>\n",
       "      <th>0</th>\n",
       "      <td>Copy paste work</td>\n",
       "      <td>data_processing,data_entry,excel,web_search,co...</td>\n",
       "    </tr>\n",
       "    <tr>\n",
       "      <th>1</th>\n",
       "      <td>EXTRACT DATA FROM PDF TO EXCEL</td>\n",
       "      <td>data_processing,data_entry,excel,pdf,word</td>\n",
       "    </tr>\n",
       "    <tr>\n",
       "      <th>2</th>\n",
       "      <td>health insurance form  -- 2</td>\n",
       "      <td>excel</td>\n",
       "    </tr>\n",
       "    <tr>\n",
       "      <th>3</th>\n",
       "      <td>Build me a website</td>\n",
       "      <td>php,website_design,graphic_design,wordpress,html</td>\n",
       "    </tr>\n",
       "    <tr>\n",
       "      <th>4</th>\n",
       "      <td>Data entry</td>\n",
       "      <td>data_entry,excel,copy_typing</td>\n",
       "    </tr>\n",
       "    <tr>\n",
       "      <th>...</th>\n",
       "      <td>...</td>\n",
       "      <td>...</td>\n",
       "    </tr>\n",
       "    <tr>\n",
       "      <th>95</th>\n",
       "      <td>Retyping and data entry project</td>\n",
       "      <td>data_processing,data_entry,excel,word,copy_typing</td>\n",
       "    </tr>\n",
       "    <tr>\n",
       "      <th>96</th>\n",
       "      <td>Wordpress Landingpage + Content</td>\n",
       "      <td>php,website_design,wordpress,css,html</td>\n",
       "    </tr>\n",
       "    <tr>\n",
       "      <th>97</th>\n",
       "      <td>Experienced Illustrator required -- 2</td>\n",
       "      <td>graphic_design,logo_design,photoshop,illustrat...</td>\n",
       "    </tr>\n",
       "    <tr>\n",
       "      <th>98</th>\n",
       "      <td>Recherche de propriétaires dans des secteurs p...</td>\n",
       "      <td>data_entry,excel,web_search,internet_research</td>\n",
       "    </tr>\n",
       "    <tr>\n",
       "      <th>99</th>\n",
       "      <td>EXTRACT DATA FROM PDF TO EXCEL</td>\n",
       "      <td>data_processing,data_entry,excel,pdf,word</td>\n",
       "    </tr>\n",
       "  </tbody>\n",
       "</table>\n",
       "<p>100 rows × 2 columns</p>\n",
       "</div>"
      ],
      "text/plain": [
       "                                                Title  \\\n",
       "0                                     Copy paste work   \n",
       "1                      EXTRACT DATA FROM PDF TO EXCEL   \n",
       "2                         health insurance form  -- 2   \n",
       "3                                  Build me a website   \n",
       "4                                          Data entry   \n",
       "..                                                ...   \n",
       "95                    Retyping and data entry project   \n",
       "96                    Wordpress Landingpage + Content   \n",
       "97              Experienced Illustrator required -- 2   \n",
       "98  Recherche de propriétaires dans des secteurs p...   \n",
       "99                     EXTRACT DATA FROM PDF TO EXCEL   \n",
       "\n",
       "                                         Technologies  \n",
       "0   data_processing,data_entry,excel,web_search,co...  \n",
       "1           data_processing,data_entry,excel,pdf,word  \n",
       "2                                               excel  \n",
       "3    php,website_design,graphic_design,wordpress,html  \n",
       "4                        data_entry,excel,copy_typing  \n",
       "..                                                ...  \n",
       "95  data_processing,data_entry,excel,word,copy_typing  \n",
       "96              php,website_design,wordpress,css,html  \n",
       "97  graphic_design,logo_design,photoshop,illustrat...  \n",
       "98      data_entry,excel,web_search,internet_research  \n",
       "99          data_processing,data_entry,excel,pdf,word  \n",
       "\n",
       "[100 rows x 2 columns]"
      ]
     },
     "execution_count": 48,
     "metadata": {},
     "output_type": "execute_result"
    }
   ],
   "source": [
    "df"
   ]
  },
  {
   "cell_type": "code",
   "execution_count": null,
   "metadata": {},
   "outputs": [],
   "source": []
  }
 ],
 "metadata": {
  "kernelspec": {
   "display_name": "Python 3.7.6 64-bit ('Ironhack': conda)",
   "language": "python",
   "name": "python37664bitironhackconda2e1d8dd202d44dc690958f22a90cf36f"
  },
  "language_info": {
   "codemirror_mode": {
    "name": "ipython",
    "version": 3
   },
   "file_extension": ".py",
   "mimetype": "text/x-python",
   "name": "python",
   "nbconvert_exporter": "python",
   "pygments_lexer": "ipython3",
   "version": "3.7.6"
  }
 },
 "nbformat": 4,
 "nbformat_minor": 4
}
