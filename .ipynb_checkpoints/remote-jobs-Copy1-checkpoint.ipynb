{
 "cells": [
  {
   "cell_type": "code",
   "execution_count": 1,
   "metadata": {},
   "outputs": [],
   "source": [
    "import pandas as pd\n",
    "import numpy as np"
   ]
  },
  {
   "cell_type": "markdown",
   "metadata": {},
   "source": [
    "## Read the collected information"
   ]
  },
  {
   "cell_type": "code",
   "execution_count": 245,
   "metadata": {},
   "outputs": [],
   "source": [
    "df_remote_io = pd.read_csv('dataframes/remote-io.csv')\n",
    "df_we_work_remotely = pd.read_csv('dataframes/we-work-remotely.csv')\n",
    "df_stackoverflow = pd.read_csv('dataframes/stackoverflow.csv')"
   ]
  },
  {
   "cell_type": "markdown",
   "metadata": {},
   "source": [
    "## Join DataFrames"
   ]
  },
  {
   "cell_type": "code",
   "execution_count": 246,
   "metadata": {},
   "outputs": [
    {
     "data": {
      "text/html": [
       "<div>\n",
       "<style scoped>\n",
       "    .dataframe tbody tr th:only-of-type {\n",
       "        vertical-align: middle;\n",
       "    }\n",
       "\n",
       "    .dataframe tbody tr th {\n",
       "        vertical-align: top;\n",
       "    }\n",
       "\n",
       "    .dataframe thead th {\n",
       "        text-align: right;\n",
       "    }\n",
       "</style>\n",
       "<table border=\"1\" class=\"dataframe\">\n",
       "  <thead>\n",
       "    <tr style=\"text-align: right;\">\n",
       "      <th></th>\n",
       "      <th>Title</th>\n",
       "      <th>Link</th>\n",
       "      <th>Languages</th>\n",
       "      <th>Web Frameworks</th>\n",
       "      <th>Libraries</th>\n",
       "      <th>Databases</th>\n",
       "      <th>Platforms</th>\n",
       "      <th>Other</th>\n",
       "      <th>Experience Level</th>\n",
       "    </tr>\n",
       "  </thead>\n",
       "  <tbody>\n",
       "    <tr>\n",
       "      <th>0</th>\n",
       "      <td>Senior Systems Administrator (Washington, D.C...</td>\n",
       "      <td>https://www.remote.io/job/4048/senior-systems-...</td>\n",
       "      <td>java,sass,c,shell</td>\n",
       "      <td>NaN</td>\n",
       "      <td>apache</td>\n",
       "      <td>mysql</td>\n",
       "      <td>aws,ios,amazon web services,linux</td>\n",
       "      <td>NaN</td>\n",
       "      <td>senior</td>\n",
       "    </tr>\n",
       "    <tr>\n",
       "      <th>1</th>\n",
       "      <td>Front-End Developer at Wallethub</td>\n",
       "      <td>https://www.remote.io/job/4047/front-end-devel...</td>\n",
       "      <td>php,html,javascript,c,css</td>\n",
       "      <td>angular</td>\n",
       "      <td>NaN</td>\n",
       "      <td>NaN</td>\n",
       "      <td>NaN</td>\n",
       "      <td>NaN</td>\n",
       "      <td>other</td>\n",
       "    </tr>\n",
       "    <tr>\n",
       "      <th>2</th>\n",
       "      <td>Part-Time Full Stack Web Developer with React...</td>\n",
       "      <td>https://www.remote.io/job/4046/part-time-full-...</td>\n",
       "      <td>bash,sass,html,javascript,shell,css,ruby</td>\n",
       "      <td>react,ruby</td>\n",
       "      <td>git</td>\n",
       "      <td>postgresql</td>\n",
       "      <td>docker,aws</td>\n",
       "      <td>NaN</td>\n",
       "      <td>senior</td>\n",
       "    </tr>\n",
       "    <tr>\n",
       "      <th>3</th>\n",
       "      <td>Full Stack Developer (Remote United States) a...</td>\n",
       "      <td>https://www.remote.io/job/4045/full-stack-deve...</td>\n",
       "      <td>ruby</td>\n",
       "      <td>react,ruby</td>\n",
       "      <td>NaN</td>\n",
       "      <td>NaN</td>\n",
       "      <td>NaN</td>\n",
       "      <td>NaN</td>\n",
       "      <td>other</td>\n",
       "    </tr>\n",
       "    <tr>\n",
       "      <th>4</th>\n",
       "      <td>Medical Biller</td>\n",
       "      <td>https://www.remote.io/job/4044/medical-biller</td>\n",
       "      <td>NaN</td>\n",
       "      <td>NaN</td>\n",
       "      <td>NaN</td>\n",
       "      <td>NaN</td>\n",
       "      <td>NaN</td>\n",
       "      <td>NaN</td>\n",
       "      <td>other</td>\n",
       "    </tr>\n",
       "    <tr>\n",
       "      <th>...</th>\n",
       "      <td>...</td>\n",
       "      <td>...</td>\n",
       "      <td>...</td>\n",
       "      <td>...</td>\n",
       "      <td>...</td>\n",
       "      <td>...</td>\n",
       "      <td>...</td>\n",
       "      <td>...</td>\n",
       "      <td>...</td>\n",
       "    </tr>\n",
       "    <tr>\n",
       "      <th>2028</th>\n",
       "      <td>Senior React Native / Flutter Developer (Remote)</td>\n",
       "      <td>https://stackoverflow.com/jobs/200538/senior-r...</td>\n",
       "      <td>python,typescript,javascript</td>\n",
       "      <td>django,flask,express,node,react,angular,vue</td>\n",
       "      <td>flutter,react native</td>\n",
       "      <td>NaN</td>\n",
       "      <td>docker,ios,kubernetes,amazon web services,android</td>\n",
       "      <td>NaN</td>\n",
       "      <td>senior</td>\n",
       "    </tr>\n",
       "    <tr>\n",
       "      <th>2029</th>\n",
       "      <td>Senior Software Engineer (Full Stack)</td>\n",
       "      <td>https://stackoverflow.com/jobs/376694/senior-s...</td>\n",
       "      <td>java,javascript</td>\n",
       "      <td>NaN</td>\n",
       "      <td>NaN</td>\n",
       "      <td>nosql,elasticsearch</td>\n",
       "      <td>docker,kubernetes,amazon web services,linux</td>\n",
       "      <td>NaN</td>\n",
       "      <td>senior</td>\n",
       "    </tr>\n",
       "    <tr>\n",
       "      <th>2030</th>\n",
       "      <td>Senior Mobile Engineer, Flutter</td>\n",
       "      <td>https://stackoverflow.com/jobs/375400/senior-m...</td>\n",
       "      <td>dart</td>\n",
       "      <td>NaN</td>\n",
       "      <td>flutter</td>\n",
       "      <td>NaN</td>\n",
       "      <td>ios,android</td>\n",
       "      <td>NaN</td>\n",
       "      <td>senior</td>\n",
       "    </tr>\n",
       "    <tr>\n",
       "      <th>2031</th>\n",
       "      <td>Sr. Software Engineer - Angular</td>\n",
       "      <td>https://stackoverflow.com/jobs/363678/sr-softw...</td>\n",
       "      <td>python,sql</td>\n",
       "      <td>angular</td>\n",
       "      <td>NaN</td>\n",
       "      <td>NaN</td>\n",
       "      <td>docker</td>\n",
       "      <td>NaN</td>\n",
       "      <td>senior</td>\n",
       "    </tr>\n",
       "    <tr>\n",
       "      <th>2032</th>\n",
       "      <td>Hardcore React Native and NodeJs application d...</td>\n",
       "      <td>https://stackoverflow.com/jobs/376595/hardcore...</td>\n",
       "      <td>javascript</td>\n",
       "      <td>node,react</td>\n",
       "      <td>react native</td>\n",
       "      <td>mysql</td>\n",
       "      <td>NaN</td>\n",
       "      <td>NaN</td>\n",
       "      <td>other</td>\n",
       "    </tr>\n",
       "  </tbody>\n",
       "</table>\n",
       "<p>2033 rows × 9 columns</p>\n",
       "</div>"
      ],
      "text/plain": [
       "                                                  Title  \\\n",
       "0      Senior Systems Administrator (Washington, D.C...   \n",
       "1                     Front-End Developer at Wallethub    \n",
       "2      Part-Time Full Stack Web Developer with React...   \n",
       "3      Full Stack Developer (Remote United States) a...   \n",
       "4                                       Medical Biller    \n",
       "...                                                 ...   \n",
       "2028   Senior React Native / Flutter Developer (Remote)   \n",
       "2029              Senior Software Engineer (Full Stack)   \n",
       "2030                    Senior Mobile Engineer, Flutter   \n",
       "2031                    Sr. Software Engineer - Angular   \n",
       "2032  Hardcore React Native and NodeJs application d...   \n",
       "\n",
       "                                                   Link  \\\n",
       "0     https://www.remote.io/job/4048/senior-systems-...   \n",
       "1     https://www.remote.io/job/4047/front-end-devel...   \n",
       "2     https://www.remote.io/job/4046/part-time-full-...   \n",
       "3     https://www.remote.io/job/4045/full-stack-deve...   \n",
       "4         https://www.remote.io/job/4044/medical-biller   \n",
       "...                                                 ...   \n",
       "2028  https://stackoverflow.com/jobs/200538/senior-r...   \n",
       "2029  https://stackoverflow.com/jobs/376694/senior-s...   \n",
       "2030  https://stackoverflow.com/jobs/375400/senior-m...   \n",
       "2031  https://stackoverflow.com/jobs/363678/sr-softw...   \n",
       "2032  https://stackoverflow.com/jobs/376595/hardcore...   \n",
       "\n",
       "                                     Languages  \\\n",
       "0                            java,sass,c,shell   \n",
       "1                    php,html,javascript,c,css   \n",
       "2     bash,sass,html,javascript,shell,css,ruby   \n",
       "3                                         ruby   \n",
       "4                                          NaN   \n",
       "...                                        ...   \n",
       "2028              python,typescript,javascript   \n",
       "2029                           java,javascript   \n",
       "2030                                      dart   \n",
       "2031                                python,sql   \n",
       "2032                                javascript   \n",
       "\n",
       "                                   Web Frameworks             Libraries  \\\n",
       "0                                             NaN                apache   \n",
       "1                                         angular                   NaN   \n",
       "2                                      react,ruby                   git   \n",
       "3                                      react,ruby                   NaN   \n",
       "4                                             NaN                   NaN   \n",
       "...                                           ...                   ...   \n",
       "2028  django,flask,express,node,react,angular,vue  flutter,react native   \n",
       "2029                                          NaN                   NaN   \n",
       "2030                                          NaN               flutter   \n",
       "2031                                      angular                   NaN   \n",
       "2032                                   node,react          react native   \n",
       "\n",
       "                Databases                                          Platforms  \\\n",
       "0                   mysql                  aws,ios,amazon web services,linux   \n",
       "1                     NaN                                                NaN   \n",
       "2              postgresql                                         docker,aws   \n",
       "3                     NaN                                                NaN   \n",
       "4                     NaN                                                NaN   \n",
       "...                   ...                                                ...   \n",
       "2028                  NaN  docker,ios,kubernetes,amazon web services,android   \n",
       "2029  nosql,elasticsearch        docker,kubernetes,amazon web services,linux   \n",
       "2030                  NaN                                        ios,android   \n",
       "2031                  NaN                                             docker   \n",
       "2032                mysql                                                NaN   \n",
       "\n",
       "     Other Experience Level  \n",
       "0      NaN           senior  \n",
       "1      NaN            other  \n",
       "2      NaN           senior  \n",
       "3      NaN            other  \n",
       "4      NaN            other  \n",
       "...    ...              ...  \n",
       "2028   NaN           senior  \n",
       "2029   NaN           senior  \n",
       "2030   NaN           senior  \n",
       "2031   NaN           senior  \n",
       "2032   NaN            other  \n",
       "\n",
       "[2033 rows x 9 columns]"
      ]
     },
     "execution_count": 246,
     "metadata": {},
     "output_type": "execute_result"
    }
   ],
   "source": [
    "df = pd.concat([df_remote_io, df_we_work_remotely],ignore_index = True)\n",
    "df = pd.concat([df, df_stackoverflow],ignore_index = True)\n",
    "df"
   ]
  },
  {
   "cell_type": "markdown",
   "metadata": {},
   "source": [
    "## Dictionaries"
   ]
  },
  {
   "cell_type": "markdown",
   "metadata": {},
   "source": [
    "**Dict function**:"
   ]
  },
  {
   "cell_type": "code",
   "execution_count": 254,
   "metadata": {},
   "outputs": [],
   "source": [
    "def techs_to_dic(df,col_name):\n",
    "    technologies_set = df[col_name]\n",
    "\n",
    "    technologies_dict= {}\n",
    "\n",
    "    for technologies in technologies_set:\n",
    "        for technology in str(technologies).split(','):\n",
    "            if technology in technologies_dict.keys():\n",
    "                technologies_dict[technology] += 1\n",
    "            else:\n",
    "                technologies_dict[technology] =  1\n",
    "\n",
    "    technologies_dict_sorted = {k: v for k, v in sorted(technologies_dict.items(), key=lambda item: item[1])}\n",
    "    if 'nan' in technologies_dict_sorted.keys():\n",
    "        technologies_dict_sorted.pop('nan')\n",
    "    else:\n",
    "        pass\n",
    "    return technologies_dict_sorted"
   ]
  },
  {
   "cell_type": "markdown",
   "metadata": {},
   "source": [
    "**All possible dictionaries**"
   ]
  },
  {
   "cell_type": "code",
   "execution_count": 256,
   "metadata": {},
   "outputs": [
    {
     "data": {
      "text/plain": [
       "{'matlab': 1,\n",
       " 'vba': 1,\n",
       " 'assembly': 2,\n",
       " 'c++': 2,\n",
       " 'dart': 4,\n",
       " 'f#': 6,\n",
       " 'clojure': 7,\n",
       " 'elixir': 16,\n",
       " 'c#': 17,\n",
       " 'objective c': 24,\n",
       " 'powershell': 26,\n",
       " 'golang': 32,\n",
       " 'kotlin': 34,\n",
       " 'bash': 42,\n",
       " 'r': 42,\n",
       " 'swift': 51,\n",
       " 'asp': 62,\n",
       " 'shell': 68,\n",
       " 'graphql': 84,\n",
       " 'sass': 116,\n",
       " 'typescript': 126,\n",
       " 'php': 139,\n",
       " 'ruby': 209,\n",
       " 'go': 214,\n",
       " 'html': 253,\n",
       " 'c': 275,\n",
       " 'css': 275,\n",
       " 'java': 308,\n",
       " 'rust': 313,\n",
       " 'sql': 329,\n",
       " 'scala': 346,\n",
       " 'python': 382,\n",
       " 'javascript': 584}"
      ]
     },
     "execution_count": 256,
     "metadata": {},
     "output_type": "execute_result"
    }
   ],
   "source": [
    "techs_to_dic(df,'Languages')\n",
    "# techs_to_dic(df,'Web Frameworks')\n",
    "# techs_to_dic(df,'Libraries')\n",
    "# techs_to_dic(df,'Databases')\n",
    "# techs_to_dic(df,'Platforms')\n",
    "# techs_to_dic(df,'Other')\n",
    "# techs_to_dic(df,'Experience Level')"
   ]
  },
  {
   "cell_type": "markdown",
   "metadata": {},
   "source": [
    "## List of top technologies"
   ]
  },
  {
   "cell_type": "code",
   "execution_count": 229,
   "metadata": {},
   "outputs": [
    {
     "data": {
      "text/plain": [
       "['javascript', 'python', 'scala', 'sql', 'rust']"
      ]
     },
     "execution_count": 229,
     "metadata": {},
     "output_type": "execute_result"
    }
   ],
   "source": [
    "top_5_techs = list(technologies_dict_sorted.keys())[::-1][:5]\n",
    "top_5_techs"
   ]
  },
  {
   "cell_type": "markdown",
   "metadata": {},
   "source": [
    "## Replace nan with empty string"
   ]
  },
  {
   "cell_type": "code",
   "execution_count": 215,
   "metadata": {},
   "outputs": [
    {
     "data": {
      "text/plain": [
       "Title               0\n",
       "Link                0\n",
       "Languages           0\n",
       "Web Frameworks      0\n",
       "Libraries           0\n",
       "Databases           0\n",
       "Platforms           0\n",
       "Other               0\n",
       "Experience Level    0\n",
       "dtype: int64"
      ]
     },
     "execution_count": 215,
     "metadata": {},
     "output_type": "execute_result"
    }
   ],
   "source": [
    "# df = df.dropna(axis=0, subset=['Technologies'])\n",
    "df = df.replace(np.nan, '', regex=True)\n",
    "df[df['Languages'].isnull()]\n",
    "df.isna().sum() "
   ]
  },
  {
   "cell_type": "markdown",
   "metadata": {},
   "source": [
    "## Def functions : get_dummies & melt"
   ]
  },
  {
   "cell_type": "markdown",
   "metadata": {},
   "source": [
    "This function:\n",
    "- Takes an original df and the column to get the dummies from\n",
    "- Concatenates the original df \n",
    "- Erases the column the dummies where created from"
   ]
  },
  {
   "cell_type": "code",
   "execution_count": 216,
   "metadata": {},
   "outputs": [],
   "source": [
    "def get_dummies(df,col_name):\n",
    "    new_df = df[col_name].str.get_dummies(sep=\",\")\n",
    "    new_df = pd.concat([df,new_df], axis=1)\n",
    "    del new_df[col_name]\n",
    "    return new_df"
   ]
  },
  {
   "cell_type": "code",
   "execution_count": 220,
   "metadata": {},
   "outputs": [],
   "source": [
    "def melt_df(cols_list,df):\n",
    "    melted_df = pd.melt(df, id_vars = cols_list)\n",
    "    melted_df = melted_df[melted_df['value'] != 0]\n",
    "    del melted_df['value']\n",
    "    return melted_df"
   ]
  },
  {
   "cell_type": "markdown",
   "metadata": {},
   "source": [
    "## Get languages dummies"
   ]
  },
  {
   "cell_type": "code",
   "execution_count": 223,
   "metadata": {},
   "outputs": [],
   "source": [
    "lang_dummies = get_dummies(df,'Languages')"
   ]
  },
  {
   "cell_type": "markdown",
   "metadata": {},
   "source": [
    "## Melt language df"
   ]
  },
  {
   "cell_type": "code",
   "execution_count": 221,
   "metadata": {},
   "outputs": [],
   "source": [
    "melted_df = melt_df(['Title',\"Link\",\"Experience Level\"],lang_dummies)\n",
    "melted_df.columns = ['Title', 'Link',\"Experience Level\", \"Language\"]"
   ]
  },
  {
   "cell_type": "code",
   "execution_count": 222,
   "metadata": {},
   "outputs": [
    {
     "data": {
      "text/html": [
       "<div>\n",
       "<style scoped>\n",
       "    .dataframe tbody tr th:only-of-type {\n",
       "        vertical-align: middle;\n",
       "    }\n",
       "\n",
       "    .dataframe tbody tr th {\n",
       "        vertical-align: top;\n",
       "    }\n",
       "\n",
       "    .dataframe thead th {\n",
       "        text-align: right;\n",
       "    }\n",
       "</style>\n",
       "<table border=\"1\" class=\"dataframe\">\n",
       "  <thead>\n",
       "    <tr style=\"text-align: right;\">\n",
       "      <th></th>\n",
       "      <th>Title</th>\n",
       "      <th>Link</th>\n",
       "      <th>Experience Level</th>\n",
       "      <th>Language</th>\n",
       "    </tr>\n",
       "  </thead>\n",
       "  <tbody>\n",
       "    <tr>\n",
       "      <th>0</th>\n",
       "      <td>Senior Systems Administrator (Washington, D.C...</td>\n",
       "      <td>https://www.remote.io/job/4048/senior-systems-...</td>\n",
       "      <td>senior</td>\n",
       "      <td>Web Frameworks</td>\n",
       "    </tr>\n",
       "    <tr>\n",
       "      <th>1</th>\n",
       "      <td>Front-End Developer at Wallethub</td>\n",
       "      <td>https://www.remote.io/job/4047/front-end-devel...</td>\n",
       "      <td>other</td>\n",
       "      <td>Web Frameworks</td>\n",
       "    </tr>\n",
       "    <tr>\n",
       "      <th>2</th>\n",
       "      <td>Part-Time Full Stack Web Developer with React...</td>\n",
       "      <td>https://www.remote.io/job/4046/part-time-full-...</td>\n",
       "      <td>senior</td>\n",
       "      <td>Web Frameworks</td>\n",
       "    </tr>\n",
       "    <tr>\n",
       "      <th>3</th>\n",
       "      <td>Full Stack Developer (Remote United States) a...</td>\n",
       "      <td>https://www.remote.io/job/4045/full-stack-deve...</td>\n",
       "      <td>other</td>\n",
       "      <td>Web Frameworks</td>\n",
       "    </tr>\n",
       "    <tr>\n",
       "      <th>4</th>\n",
       "      <td>Medical Biller</td>\n",
       "      <td>https://www.remote.io/job/4044/medical-biller</td>\n",
       "      <td>other</td>\n",
       "      <td>Web Frameworks</td>\n",
       "    </tr>\n",
       "    <tr>\n",
       "      <th>...</th>\n",
       "      <td>...</td>\n",
       "      <td>...</td>\n",
       "      <td>...</td>\n",
       "      <td>...</td>\n",
       "    </tr>\n",
       "    <tr>\n",
       "      <th>75196</th>\n",
       "      <td>Python Developer</td>\n",
       "      <td>https://stackoverflow.com/jobs/330681/python-d...</td>\n",
       "      <td>senior</td>\n",
       "      <td>typescript</td>\n",
       "    </tr>\n",
       "    <tr>\n",
       "      <th>75206</th>\n",
       "      <td>Senior iOS Developer (Remote)</td>\n",
       "      <td>https://stackoverflow.com/jobs/191013/senior-i...</td>\n",
       "      <td>senior</td>\n",
       "      <td>typescript</td>\n",
       "    </tr>\n",
       "    <tr>\n",
       "      <th>75207</th>\n",
       "      <td>Senior PHP Developer (Remote)</td>\n",
       "      <td>https://stackoverflow.com/jobs/192128/senior-p...</td>\n",
       "      <td>senior</td>\n",
       "      <td>typescript</td>\n",
       "    </tr>\n",
       "    <tr>\n",
       "      <th>75216</th>\n",
       "      <td>Senior React Native / Flutter Developer (Remote)</td>\n",
       "      <td>https://stackoverflow.com/jobs/200538/senior-r...</td>\n",
       "      <td>senior</td>\n",
       "      <td>typescript</td>\n",
       "    </tr>\n",
       "    <tr>\n",
       "      <th>76644</th>\n",
       "      <td>Mid to Senior Microsoft developer with remote...</td>\n",
       "      <td>https://www.remote.io/job/2611/mid-to-senior-m...</td>\n",
       "      <td>senior</td>\n",
       "      <td>vba</td>\n",
       "    </tr>\n",
       "  </tbody>\n",
       "</table>\n",
       "<p>14555 rows × 4 columns</p>\n",
       "</div>"
      ],
      "text/plain": [
       "                                                   Title  \\\n",
       "0       Senior Systems Administrator (Washington, D.C...   \n",
       "1                      Front-End Developer at Wallethub    \n",
       "2       Part-Time Full Stack Web Developer with React...   \n",
       "3       Full Stack Developer (Remote United States) a...   \n",
       "4                                        Medical Biller    \n",
       "...                                                  ...   \n",
       "75196                                   Python Developer   \n",
       "75206                      Senior iOS Developer (Remote)   \n",
       "75207                      Senior PHP Developer (Remote)   \n",
       "75216   Senior React Native / Flutter Developer (Remote)   \n",
       "76644   Mid to Senior Microsoft developer with remote...   \n",
       "\n",
       "                                                    Link Experience Level  \\\n",
       "0      https://www.remote.io/job/4048/senior-systems-...           senior   \n",
       "1      https://www.remote.io/job/4047/front-end-devel...            other   \n",
       "2      https://www.remote.io/job/4046/part-time-full-...           senior   \n",
       "3      https://www.remote.io/job/4045/full-stack-deve...            other   \n",
       "4          https://www.remote.io/job/4044/medical-biller            other   \n",
       "...                                                  ...              ...   \n",
       "75196  https://stackoverflow.com/jobs/330681/python-d...           senior   \n",
       "75206  https://stackoverflow.com/jobs/191013/senior-i...           senior   \n",
       "75207  https://stackoverflow.com/jobs/192128/senior-p...           senior   \n",
       "75216  https://stackoverflow.com/jobs/200538/senior-r...           senior   \n",
       "76644  https://www.remote.io/job/2611/mid-to-senior-m...           senior   \n",
       "\n",
       "             Language  \n",
       "0      Web Frameworks  \n",
       "1      Web Frameworks  \n",
       "2      Web Frameworks  \n",
       "3      Web Frameworks  \n",
       "4      Web Frameworks  \n",
       "...               ...  \n",
       "75196      typescript  \n",
       "75206      typescript  \n",
       "75207      typescript  \n",
       "75216      typescript  \n",
       "76644             vba  \n",
       "\n",
       "[14555 rows x 4 columns]"
      ]
     },
     "execution_count": 222,
     "metadata": {},
     "output_type": "execute_result"
    }
   ],
   "source": [
    "melted_df"
   ]
  },
  {
   "cell_type": "markdown",
   "metadata": {},
   "source": [
    "## VISUALIZATION 🙌🏼"
   ]
  },
  {
   "cell_type": "code",
   "execution_count": 12,
   "metadata": {},
   "outputs": [],
   "source": [
    "import matplotlib.pyplot as plt \n",
    "import seaborn as sb"
   ]
  },
  {
   "cell_type": "code",
   "execution_count": 192,
   "metadata": {},
   "outputs": [
    {
     "data": {
      "image/png": "[encoded data removed]",
      "text/plain": [
       "<Figure size 432x288 with 1 Axes>"
      ]
     },
     "metadata": {
      "needs_background": "light"
     },
     "output_type": "display_data"
    }
   ],
   "source": [
    "nb_of_techs = 5\n",
    "top_techs = pd.DataFrame(melted_df['Technology'].value_counts())[:nb_of_techs]\n",
    "\n",
    "plt.bar(top_techs.index,top_techs.Technology, color ='tan')\n",
    "\n",
    "plt.show()\n"
   ]
  },
  {
   "cell_type": "markdown",
   "metadata": {},
   "source": [
    "## Top techs plot"
   ]
  },
  {
   "cell_type": "markdown",
   "metadata": {},
   "source": [
    "I did this for the number 1 tech but I think I dont want it, I'll just do it for the typed one underneath!"
   ]
  },
  {
   "cell_type": "code",
   "execution_count": 15,
   "metadata": {},
   "outputs": [],
   "source": [
    "# first_dummies = get_dummies(first_rows,'Technologies')\n",
    "# first_dummies\n",
    "# melted_first = melt_df(['Title',\"Link\",\"Experience Level\"],first_dummies)\n",
    "# melted_first\n",
    "\n",
    "# nb_of_techs = 5\n",
    "# first = pd.DataFrame(melted_first['variable'].value_counts())[:nb_of_techs]\n",
    "\n",
    "# plt.bar(first.index,first.variable)\n",
    "\n",
    "# plt.show()\n",
    "\n",
    "# melted_first"
   ]
  },
  {
   "cell_type": "markdown",
   "metadata": {},
   "source": [
    "## Get specific technology related techs"
   ]
  },
  {
   "cell_type": "code",
   "execution_count": 193,
   "metadata": {},
   "outputs": [
    {
     "name": "stdout",
     "output_type": "stream",
     "text": [
      "Imput technology name:python\n"
     ]
    }
   ],
   "source": [
    "top_techs_by_tech = input(\"Imput technology name:\")"
   ]
  },
  {
   "cell_type": "code",
   "execution_count": 194,
   "metadata": {},
   "outputs": [
    {
     "data": {
      "image/png": "[encoded data removed]",
      "text/plain": [
       "<Figure size 432x288 with 1 Axes>"
      ]
     },
     "metadata": {
      "needs_background": "light"
     },
     "output_type": "display_data"
    }
   ],
   "source": [
    "filtered_by_tech = df[df['Technologies'].str.contains(top_techs_by_tech)]\n",
    "\n",
    "filtered_by_tech_dummies = get_dummies(filtered_by_tech,'Technologies')\n",
    "filtered_by_tech_melted = melt_df(['Title','Link','Experience Level'],filtered_by_tech_dummies)\n",
    "filtered_by_tech_melted.columns = ['Title', 'Link', 'Experience Level','Technology']\n",
    "\n",
    "nb_of_techs = 5\n",
    "top_techs = pd.DataFrame(filtered_by_tech_melted['Technology'].value_counts())[:nb_of_techs]\n",
    "\n",
    "bar_chart = plt.bar(top_techs.index,top_techs.Technology, color ='tan')\n",
    "\n",
    "plt.title(top_techs_by_tech.title())\n",
    "plt.show()\n",
    "\n"
   ]
  },
  {
   "cell_type": "markdown",
   "metadata": {},
   "source": [
    "## Diferenciated by level"
   ]
  },
  {
   "cell_type": "code",
   "execution_count": 47,
   "metadata": {},
   "outputs": [
    {
     "data": {
      "image/png": "[encoded data removed]",
      "text/plain": [
       "<Figure size 432x288 with 1 Axes>"
      ]
     },
     "metadata": {
      "needs_background": "light"
     },
     "output_type": "display_data"
    }
   ],
   "source": [
    "df_by_level = melted_df[['Technology','Experience Level','Title']].groupby(['Technology','Experience Level']).count()\n",
    "\n",
    "df_by_level = melted_df.groupby(['Experience Level']).count()\n",
    "\n",
    "plt.bar(df_by_level.index,df_by_level.Technology, color ='tan')\n",
    "\n",
    "plt.show()\n",
    "# df_by_level\n",
    "\n"
   ]
  },
  {
   "cell_type": "code",
   "execution_count": 56,
   "metadata": {},
   "outputs": [
    {
     "data": {
      "image/png": "[encoded data removed]",
      "text/plain": [
       "<Figure size 432x288 with 1 Axes>"
      ]
     },
     "metadata": {},
     "output_type": "display_data"
    },
    {
     "data": {
      "text/html": [
       "<div>\n",
       "<style scoped>\n",
       "    .dataframe tbody tr th:only-of-type {\n",
       "        vertical-align: middle;\n",
       "    }\n",
       "\n",
       "    .dataframe tbody tr th {\n",
       "        vertical-align: top;\n",
       "    }\n",
       "\n",
       "    .dataframe thead th {\n",
       "        text-align: right;\n",
       "    }\n",
       "</style>\n",
       "<table border=\"1\" class=\"dataframe\">\n",
       "  <thead>\n",
       "    <tr style=\"text-align: right;\">\n",
       "      <th></th>\n",
       "      <th>Title</th>\n",
       "      <th>Link</th>\n",
       "      <th>Technology</th>\n",
       "    </tr>\n",
       "    <tr>\n",
       "      <th>Experience Level</th>\n",
       "      <th></th>\n",
       "      <th></th>\n",
       "      <th></th>\n",
       "    </tr>\n",
       "  </thead>\n",
       "  <tbody>\n",
       "    <tr>\n",
       "      <th>junior</th>\n",
       "      <td>116</td>\n",
       "      <td>116</td>\n",
       "      <td>116</td>\n",
       "    </tr>\n",
       "    <tr>\n",
       "      <th>other</th>\n",
       "      <td>2858</td>\n",
       "      <td>2858</td>\n",
       "      <td>2858</td>\n",
       "    </tr>\n",
       "    <tr>\n",
       "      <th>senior</th>\n",
       "      <td>4076</td>\n",
       "      <td>4076</td>\n",
       "      <td>4076</td>\n",
       "    </tr>\n",
       "  </tbody>\n",
       "</table>\n",
       "</div>"
      ],
      "text/plain": [
       "                  Title  Link  Technology\n",
       "Experience Level                         \n",
       "junior              116   116         116\n",
       "other              2858  2858        2858\n",
       "senior             4076  4076        4076"
      ]
     },
     "execution_count": 56,
     "metadata": {},
     "output_type": "execute_result"
    }
   ],
   "source": [
    "\n",
    "labels = ['Junior', 'Other', 'Senior']\n",
    "\n",
    "sizes = list(df_by_level['Title'])\n",
    "\n",
    "colors = ['peru', 'tan', 'moccasin']\n",
    "\n",
    "plt.pie(sizes, labels=labels, colors=colors,\n",
    "autopct='%1.1f%%', shadow=True, startangle=140)\n",
    "\n",
    "plt.axis('equal')\n",
    "plt.show()\n",
    "        \n",
    "df_by_level"
   ]
  },
  {
   "cell_type": "markdown",
   "metadata": {},
   "source": [
    "## Only junior techs"
   ]
  },
  {
   "cell_type": "code",
   "execution_count": 114,
   "metadata": {},
   "outputs": [
    {
     "data": {
      "image/png": "[encoded data removed]",
      "text/plain": [
       "<Figure size 432x288 with 1 Axes>"
      ]
     },
     "metadata": {
      "needs_background": "light"
     },
     "output_type": "display_data"
    },
    {
     "data": {
      "text/plain": [
       "['javascript',\n",
       " 'sql',\n",
       " 'docker',\n",
       " 'rust',\n",
       " 'react',\n",
       " 'java',\n",
       " 'angular',\n",
       " 'python',\n",
       " 'amazon web services',\n",
       " 'node']"
      ]
     },
     "execution_count": 114,
     "metadata": {},
     "output_type": "execute_result"
    }
   ],
   "source": [
    "junior_df = melted_df[melted_df['Experience Level'] == 'junior']\n",
    "junior_top10_df = pd.DataFrame(junior_df['Technology'].value_counts()[:10])\n",
    "junior_top10_df\n",
    "\n",
    "plt.xticks(rotation='vertical')\n",
    "\n",
    "plt.bar(junior_top10_df.index,junior_top10_df.Technology, color ='tan')\n",
    "\n",
    "\n",
    "plt.show()\n",
    "\n",
    "\n"
   ]
  },
  {
   "cell_type": "markdown",
   "metadata": {},
   "source": [
    "## Only senior techs"
   ]
  },
  {
   "cell_type": "code",
   "execution_count": 110,
   "metadata": {},
   "outputs": [
    {
     "data": {
      "image/png": "[encoded data removed]",
      "text/plain": [
       "<Figure size 432x288 with 1 Axes>"
      ]
     },
     "metadata": {
      "needs_background": "light"
     },
     "output_type": "display_data"
    },
    {
     "data": {
      "text/html": [
       "<div>\n",
       "<style scoped>\n",
       "    .dataframe tbody tr th:only-of-type {\n",
       "        vertical-align: middle;\n",
       "    }\n",
       "\n",
       "    .dataframe tbody tr th {\n",
       "        vertical-align: top;\n",
       "    }\n",
       "\n",
       "    .dataframe thead th {\n",
       "        text-align: right;\n",
       "    }\n",
       "</style>\n",
       "<table border=\"1\" class=\"dataframe\">\n",
       "  <thead>\n",
       "    <tr style=\"text-align: right;\">\n",
       "      <th></th>\n",
       "      <th>Technology</th>\n",
       "    </tr>\n",
       "  </thead>\n",
       "  <tbody>\n",
       "    <tr>\n",
       "      <th>javascript</th>\n",
       "      <td>318</td>\n",
       "    </tr>\n",
       "    <tr>\n",
       "      <th>sql</th>\n",
       "      <td>298</td>\n",
       "    </tr>\n",
       "    <tr>\n",
       "      <th>react</th>\n",
       "      <td>266</td>\n",
       "    </tr>\n",
       "    <tr>\n",
       "      <th>amazon web services</th>\n",
       "      <td>212</td>\n",
       "    </tr>\n",
       "    <tr>\n",
       "      <th>python</th>\n",
       "      <td>211</td>\n",
       "    </tr>\n",
       "    <tr>\n",
       "      <th>rust</th>\n",
       "      <td>208</td>\n",
       "    </tr>\n",
       "    <tr>\n",
       "      <th>scala</th>\n",
       "      <td>206</td>\n",
       "    </tr>\n",
       "    <tr>\n",
       "      <th>node</th>\n",
       "      <td>184</td>\n",
       "    </tr>\n",
       "    <tr>\n",
       "      <th>java</th>\n",
       "      <td>171</td>\n",
       "    </tr>\n",
       "    <tr>\n",
       "      <th>docker</th>\n",
       "      <td>157</td>\n",
       "    </tr>\n",
       "  </tbody>\n",
       "</table>\n",
       "</div>"
      ],
      "text/plain": [
       "                     Technology\n",
       "javascript                  318\n",
       "sql                         298\n",
       "react                       266\n",
       "amazon web services         212\n",
       "python                      211\n",
       "rust                        208\n",
       "scala                       206\n",
       "node                        184\n",
       "java                        171\n",
       "docker                      157"
      ]
     },
     "execution_count": 110,
     "metadata": {},
     "output_type": "execute_result"
    }
   ],
   "source": [
    "senior_df = melted_df[melted_df['Experience Level'] == 'senior']\n",
    "senior_top10_df = pd.DataFrame(senior_df['Technology'].value_counts()[:10])\n",
    "senior_top10_df\n",
    "\n",
    "plt.xticks(rotation='vertical')\n",
    "\n",
    "plt.bar(senior_top10_df.index,senior_top10_df.Technology, color ='tan')\n",
    "\n",
    "\n",
    "plt.show()\n",
    "\n"
   ]
  },
  {
   "cell_type": "markdown",
   "metadata": {},
   "source": [
    "## Senior techs based in junior techs"
   ]
  },
  {
   "cell_type": "code",
   "execution_count": 160,
   "metadata": {},
   "outputs": [
    {
     "data": {
      "image/png": "[encoded data removed]",
      "text/plain": [
       "<Figure size 432x288 with 1 Axes>"
      ]
     },
     "metadata": {
      "needs_background": "light"
     },
     "output_type": "display_data"
    }
   ],
   "source": [
    "junior_top_10_techs = list(junior_top10_df.index)\n",
    "\n",
    "sr_from_jr_df = melted_df[melted_df['Experience Level'] == 'senior']\n",
    "sr_from_jr_df = sr_from_jr_df[sr_from_jr_df['Technology'].isin(junior_top_10_techs)]\n",
    "\n",
    "sr_from_jr_top10_df = pd.DataFrame(sr_from_jr_df['Technology'].value_counts())\n",
    "sr_from_jr_top10_df\n",
    "\n",
    "\n",
    "plt.xticks(rotation='vertical')\n",
    "\n",
    "plt.bar(sr_from_jr_top10_df.index,sr_from_jr_top10_df.Technology, color ='tan')\n",
    "\n",
    "\n",
    "plt.show()\n",
    "\n"
   ]
  },
  {
   "cell_type": "markdown",
   "metadata": {},
   "source": [
    "## Other techs based in junior techs"
   ]
  },
  {
   "cell_type": "code",
   "execution_count": 180,
   "metadata": {},
   "outputs": [
    {
     "data": {
      "image/png": "[encoded data removed]",
      "text/plain": [
       "<Figure size 432x288 with 1 Axes>"
      ]
     },
     "metadata": {
      "needs_background": "light"
     },
     "output_type": "display_data"
    }
   ],
   "source": [
    "junior_top_10_techs = list(junior_top10_df.index)\n",
    "\n",
    "others_from_jr_df = melted_df[melted_df['Experience Level'] == 'senior']\n",
    "others_from_jr_df = others_from_jr_df[others_from_jr_df['Technology'].isin(junior_top_10_techs)]\n",
    "\n",
    "others_from_jr_top10_df = pd.DataFrame(others_from_jr_df['Technology'].value_counts())\n",
    "others_from_jr_top10_df\n",
    "\n",
    "\n",
    "plt.xticks(rotation='vertical')\n",
    "\n",
    "plt.bar(others_from_jr_top10_df.index,others_from_jr_top10_df.Technology, color ='tan')\n",
    "\n",
    "\n",
    "plt.show()\n"
   ]
  },
  {
   "cell_type": "markdown",
   "metadata": {},
   "source": [
    "## Stacked bar"
   ]
  },
  {
   "cell_type": "code",
   "execution_count": 200,
   "metadata": {},
   "outputs": [
    {
     "data": {
      "image/png": "[encoded data removed]",
      "text/plain": [
       "<Figure size 432x288 with 1 Axes>"
      ]
     },
     "metadata": {
      "needs_background": "light"
     },
     "output_type": "display_data"
    }
   ],
   "source": [
    "N = 10\n",
    "junior_tech = tuple(junior_top10_df['Technology'])\n",
    "senior_tech = tuple(sr_from_jr_top10_df['Technology'])\n",
    "other_tech = tuple(others_from_jr_top10_df['Technology'])\n",
    "ind = np.arange(N)    # the x locations for the groups\n",
    "width = 0.35       # the width of the bars: can also be len(x) sequence\n",
    "colors = ['peru', 'tan', 'moccasin']\n",
    "\n",
    "p1 = plt.bar(ind, junior_tech, width, color=colors[0])\n",
    "p2 = plt.bar(ind, senior_tech, width,\n",
    "             bottom=junior_tech,color=colors[1])\n",
    "p3 = plt.bar(ind , other_tech, width, bottom = senior_tech,color=colors[2])\n",
    "\n",
    "plt.ylabel('Nb of job offers')\n",
    "plt.title('Technologies by level of experience')\n",
    "plt.xticks(ind, tuple(junior_top10_df.index), rotation = 'vertical')\n",
    "plt.legend((p1[0], p2[0], p3[0]),('Junior', 'Senior','Other'))\n",
    "\n",
    "plt.show()"
   ]
  },
  {
   "cell_type": "markdown",
   "metadata": {},
   "source": [
    "## Find related technologies for the top 5 languages"
   ]
  },
  {
   "cell_type": "code",
   "execution_count": 198,
   "metadata": {},
   "outputs": [],
   "source": [
    "tech1 = melted_df[melted_df['Technology'].str.contains(top_5_techs[0])]\n",
    "tech2 = melted_df[melted_df['Technology'] == top_5_techs[1]]\n",
    "tech3 = melted_df[melted_df['Technology'].str.contains(top_5_techs[2])]\n",
    "tech4 = melted_df[melted_df['Technology'].str.contains(top_5_techs[3])]\n",
    "tech5 = melted_df[melted_df['Technology'].str.contains(top_5_techs[4])]"
   ]
  },
  {
   "cell_type": "code",
   "execution_count": 199,
   "metadata": {},
   "outputs": [
    {
     "name": "stdout",
     "output_type": "stream",
     "text": [
      "                             Title\n",
      "Technology Experience Level       \n",
      "javascript junior               17\n",
      "           other               252\n",
      "           senior              318\n",
      "                             Title\n",
      "Technology Experience Level       \n",
      "sql        junior               10\n",
      "           other               193\n",
      "           senior              298\n",
      "                                  Title\n",
      "Technology      Experience Level       \n",
      "react           junior                7\n",
      "                other               184\n",
      "                senior              266\n",
      "react bootstrap other                 1\n",
      "                senior                3\n",
      "react native    other                27\n",
      "                senior               56\n",
      "                             Title\n",
      "Technology Experience Level       \n",
      "python     junior                6\n",
      "           other               172\n",
      "           senior              211\n",
      "                             Title\n",
      "Technology Experience Level       \n",
      "scala      junior                3\n",
      "           other               146\n",
      "           senior              206\n"
     ]
    }
   ],
   "source": [
    "tech1_group = tech1.groupby(['Technology','Experience Level']).count()\n",
    "del tech1_group['Link']\n",
    "tech1_group\n",
    "\n",
    "tech2_group = tech2.groupby(['Technology','Experience Level']).count()\n",
    "del tech2_group['Link']\n",
    "tech2_group\n",
    "\n",
    "tech3_group = tech3.groupby(['Technology','Experience Level']).count()\n",
    "del tech3_group['Link']\n",
    "tech3_group\n",
    "\n",
    "tech4_group = tech4.groupby(['Technology','Experience Level']).count()\n",
    "del tech4_group['Link']\n",
    "tech4_group\n",
    "\n",
    "tech5_group = tech5.groupby(['Technology','Experience Level']).count()\n",
    "del tech5_group['Link']\n",
    "tech5_group\n",
    "\n",
    "\n",
    "print(tech1_group)\n",
    "print(tech2_group)\n",
    "print(tech3_group)\n",
    "print(tech4_group)\n",
    "print(tech5_group)\n"
   ]
  },
  {
   "cell_type": "code",
   "execution_count": null,
   "metadata": {},
   "outputs": [],
   "source": []
  }
 ],
 "metadata": {
  "kernelspec": {
   "display_name": "Python 3.7.6 64-bit ('Ironhack': conda)",
   "language": "python",
   "name": "python37664bitironhackconda2e1d8dd202d44dc690958f22a90cf36f"
  },
  "language_info": {
   "codemirror_mode": {
    "name": "ipython",
    "version": 3
   },
   "file_extension": ".py",
   "mimetype": "text/x-python",
   "name": "python",
   "nbconvert_exporter": "python",
   "pygments_lexer": "ipython3",
   "version": "3.7.6"
  }
 },
 "nbformat": 4,
 "nbformat_minor": 4
}
