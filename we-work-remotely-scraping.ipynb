{
 "cells": [
  {
   "cell_type": "code",
   "execution_count": 2,
   "metadata": {},
   "outputs": [],
   "source": [
    "import requests\n",
    "from bs4 import BeautifulSoup\n",
    "import pandas as pd\n",
    "import re"
   ]
  },
  {
   "cell_type": "markdown",
   "metadata": {},
   "source": [
    "## WeWorkRemotely request"
   ]
  },
  {
   "cell_type": "code",
   "execution_count": 4,
   "metadata": {},
   "outputs": [],
   "source": [
    "url = 'https://weworkremotely.com/categories/remote-programming-jobs'\n",
    "\n",
    "response = requests.get(url)\n",
    "soup = BeautifulSoup(response.content, 'lxml')\n",
    "\n",
    "links = soup.select('article > ul > li > a',recursive=False)\n",
    "links = ['https://weworkremotely.com' + a['href'] for a in links[1:-1]]\n",
    "titles = [' '.join(link.split('-')[3:]) for link in links]"
   ]
  },
  {
   "cell_type": "markdown",
   "metadata": {},
   "source": [
    "## Find technologies"
   ]
  },
  {
   "cell_type": "markdown",
   "metadata": {},
   "source": [
    "#### Trying to do it with the findall regex"
   ]
  },
  {
   "cell_type": "code",
   "execution_count": 6,
   "metadata": {},
   "outputs": [],
   "source": [
    "responses = [requests.get(link) for link in links]"
   ]
  },
  {
   "cell_type": "code",
   "execution_count": 7,
   "metadata": {},
   "outputs": [],
   "source": [
    "soups = [BeautifulSoup(response.content, 'lxml') for response in responses]"
   ]
  },
  {
   "cell_type": "code",
   "execution_count": 8,
   "metadata": {},
   "outputs": [],
   "source": [
    "job_details = [soup.find('div',attrs = {'class':'listing-container'}) for soup in soups] \n"
   ]
  },
  {
   "cell_type": "markdown",
   "metadata": {},
   "source": [
    "## List of technologies"
   ]
  },
  {
   "cell_type": "code",
   "execution_count": 3,
   "metadata": {},
   "outputs": [],
   "source": [
    "technologies = pd.read_json('golden-source-classified.json')\n",
    "\n",
    "pattern_languages = '|'.join(technologies['remote_project']['technologies']['languages'])\n",
    "pattern_web_frameworks = '|'.join(technologies['remote_project']['technologies']['web_frameworks'])\n",
    "pattern_libraries = '|'.join(technologies['remote_project']['technologies']['other_frameworks_libraries_tools'])\n",
    "pattern_databases = '|'.join(technologies['remote_project']['technologies']['databases'])\n",
    "pattern_platforms = '|'.join(technologies['remote_project']['technologies']['platforms'])\n",
    "pattern_other = '|'.join(technologies['remote_project']['technologies']['other_habilities'])\n",
    "\n",
    "pattern_all_technologies = pattern_languages + '|' + pattern_web_frameworks + '|' + pattern_libraries + '|' + pattern_databases + '|' +pattern_platforms + '|' +pattern_other\n"
   ]
  },
  {
   "cell_type": "code",
   "execution_count": 18,
   "metadata": {},
   "outputs": [],
   "source": [
    "languages = [list(set(re.findall(pattern_languages,str(tag).replace(\"-\",\" \").lower()))) for tag in job_details]\n",
    "web_frameworks = [list(set(re.findall(pattern_web_frameworks,str(tag).replace(\"-\",\" \").lower()))) for tag in job_details]\n",
    "libraries = [list(set(re.findall(pattern_libraries,str(tag).replace(\"-\",\" \").lower()))) for tag in job_details]\n",
    "databases = [list(set(re.findall(pattern_databases,str(tag).replace(\"-\",\" \").lower()))) for tag in job_details]\n",
    "platforms = [list(set(re.findall(pattern_platforms,str(tag).replace(\"-\",\" \").lower()))) for tag in job_details]\n",
    "other = [list(set(re.findall(pattern_other,str(tag).replace(\"-\",\" \").lower()))) for tag in job_details]"
   ]
  },
  {
   "cell_type": "markdown",
   "metadata": {},
   "source": [
    "## Find experience level"
   ]
  },
  {
   "cell_type": "code",
   "execution_count": 28,
   "metadata": {},
   "outputs": [
    {
     "data": {
      "text/plain": [
       "'\\\\bexperienced\\\\b\\\\b|\\\\b\\\\bmanager\\\\b\\\\b|\\\\b\\\\bsenior\\\\b\\\\b|\\\\b\\\\bjunior\\\\b\\\\b|\\\\b\\\\bsr.\\\\b\\\\b|\\\\b\\\\bjr.\\\\b\\\\b|\\\\b\\\\bjr\\\\b\\\\b|\\\\b\\\\bsr\\\\b'"
      ]
     },
     "execution_count": 28,
     "metadata": {},
     "output_type": "execute_result"
    }
   ],
   "source": [
    "level = pd.read_json('golden-source-classified.json')\n",
    "pattern = r'\\b|\\b'.join(level['remote_project']['level'])\n",
    "\n",
    "pattern\n"
   ]
  },
  {
   "cell_type": "code",
   "execution_count": 29,
   "metadata": {},
   "outputs": [],
   "source": [
    "entry_level_body = [list(set(re.findall(pattern, str(job).lower()))) for job in job_details]\n",
    "# entry_level\n",
    "\n",
    "entry_level_titles =  [list(set(re.findall(pattern, str(job).lower()))) for job in titles]\n",
    "entry_levels = [(set(a+b)) for a,b in zip(entry_level_titles,entry_level_body)]\n",
    "\n",
    "entry_levels_clean = []\n",
    "for level in entry_levels:\n",
    "    if level.intersection({'senior','experienced','sr','sr.','manager'}):\n",
    "        entry_levels_clean.append('senior')\n",
    "    elif level.intersection({'junior','jr','jr.'}):\n",
    "        entry_levels_clean.append('junior')\n",
    "    else:\n",
    "        entry_levels_clean.append('other')\n",
    "    \n"
   ]
  },
  {
   "cell_type": "markdown",
   "metadata": {},
   "source": [
    "## DataFrame 🙃"
   ]
  },
  {
   "cell_type": "code",
   "execution_count": 40,
   "metadata": {},
   "outputs": [
    {
     "data": {
      "text/html": [
       "<div>\n",
       "<style scoped>\n",
       "    .dataframe tbody tr th:only-of-type {\n",
       "        vertical-align: middle;\n",
       "    }\n",
       "\n",
       "    .dataframe tbody tr th {\n",
       "        vertical-align: top;\n",
       "    }\n",
       "\n",
       "    .dataframe thead th {\n",
       "        text-align: right;\n",
       "    }\n",
       "</style>\n",
       "<table border=\"1\" class=\"dataframe\">\n",
       "  <thead>\n",
       "    <tr style=\"text-align: right;\">\n",
       "      <th></th>\n",
       "      <th>Title</th>\n",
       "      <th>Link</th>\n",
       "      <th>Languages</th>\n",
       "      <th>Web Frameworks</th>\n",
       "      <th>Libraries</th>\n",
       "      <th>Databases</th>\n",
       "      <th>Platforms</th>\n",
       "      <th>Other</th>\n",
       "      <th>Experience Level</th>\n",
       "    </tr>\n",
       "  </thead>\n",
       "  <tbody>\n",
       "    <tr>\n",
       "      <th>0</th>\n",
       "      <td>superstar full stack developer your work will ...</td>\n",
       "      <td>https://weworkremotely.com/remote-jobs/country...</td>\n",
       "      <td>html,javascript,css,php</td>\n",
       "      <td>jquery</td>\n",
       "      <td></td>\n",
       "      <td>mysql</td>\n",
       "      <td>shopify,wordpress</td>\n",
       "      <td>ui,seo,ux</td>\n",
       "      <td>senior</td>\n",
       "    </tr>\n",
       "    <tr>\n",
       "      <th>1</th>\n",
       "      <td>source developer devops python django aws open...</td>\n",
       "      <td>https://weworkremotely.com/remote-jobs/opencra...</td>\n",
       "      <td>html,python,javascript,css</td>\n",
       "      <td>react,django</td>\n",
       "      <td>ansible,git</td>\n",
       "      <td>mongodb,redis,elasticsearch,postgresql,mysql</td>\n",
       "      <td>linux,ios,android,docker,aws,rabbitmq</td>\n",
       "      <td></td>\n",
       "      <td>senior</td>\n",
       "    </tr>\n",
       "    <tr>\n",
       "      <th>2</th>\n",
       "      <td>senior software engineer node js 1</td>\n",
       "      <td>https://weworkremotely.com/remote-jobs/float-c...</td>\n",
       "      <td>graphql,sql</td>\n",
       "      <td>node</td>\n",
       "      <td></td>\n",
       "      <td>mysql,nosql,mongodb</td>\n",
       "      <td>aws,docker,kubernetes</td>\n",
       "      <td></td>\n",
       "      <td>senior</td>\n",
       "    </tr>\n",
       "    <tr>\n",
       "      <th>3</th>\n",
       "      <td>inc senior full stack engineer</td>\n",
       "      <td>https://weworkremotely.com/remote-jobs/sofia-f...</td>\n",
       "      <td>python,typescript,javascript,go,ruby,scala</td>\n",
       "      <td>angular,django,react,ruby,node</td>\n",
       "      <td></td>\n",
       "      <td>redis</td>\n",
       "      <td>windows,linux,ios,android,macos</td>\n",
       "      <td></td>\n",
       "      <td>senior</td>\n",
       "    </tr>\n",
       "    <tr>\n",
       "      <th>4</th>\n",
       "      <td>boss senior full stack engineer 1</td>\n",
       "      <td>https://weworkremotely.com/remote-jobs/follow-...</td>\n",
       "      <td>css,javascript,sql,php</td>\n",
       "      <td>react</td>\n",
       "      <td></td>\n",
       "      <td>mysql,redis</td>\n",
       "      <td>linux</td>\n",
       "      <td></td>\n",
       "      <td>senior</td>\n",
       "    </tr>\n",
       "    <tr>\n",
       "      <th>...</th>\n",
       "      <td>...</td>\n",
       "      <td>...</td>\n",
       "      <td>...</td>\n",
       "      <td>...</td>\n",
       "      <td>...</td>\n",
       "      <td>...</td>\n",
       "      <td>...</td>\n",
       "      <td>...</td>\n",
       "      <td>...</td>\n",
       "    </tr>\n",
       "    <tr>\n",
       "      <th>173</th>\n",
       "      <td>shopify developers needed</td>\n",
       "      <td>https://weworkremotely.com/remote-jobs/storeta...</td>\n",
       "      <td></td>\n",
       "      <td></td>\n",
       "      <td></td>\n",
       "      <td></td>\n",
       "      <td>shopify</td>\n",
       "      <td></td>\n",
       "      <td>senior</td>\n",
       "    </tr>\n",
       "    <tr>\n",
       "      <th>174</th>\n",
       "      <td>stack engineer for medical research</td>\n",
       "      <td>https://weworkremotely.com/remote-jobs/curebas...</td>\n",
       "      <td>graphql,javascript</td>\n",
       "      <td>react,express</td>\n",
       "      <td></td>\n",
       "      <td></td>\n",
       "      <td>aws,apollo</td>\n",
       "      <td></td>\n",
       "      <td>other</td>\n",
       "    </tr>\n",
       "    <tr>\n",
       "      <th>175</th>\n",
       "      <td>llc react developer</td>\n",
       "      <td>https://weworkremotely.com/remote-jobs/skapa-t...</td>\n",
       "      <td>javascript,scala,sql,asp</td>\n",
       "      <td>react</td>\n",
       "      <td>git,react native,.net</td>\n",
       "      <td>nosql</td>\n",
       "      <td></td>\n",
       "      <td></td>\n",
       "      <td>other</td>\n",
       "    </tr>\n",
       "    <tr>\n",
       "      <th>176</th>\n",
       "      <td>react apollo developer 1</td>\n",
       "      <td>https://weworkremotely.com/remote-jobs/onthego...</td>\n",
       "      <td>graphql,typescript</td>\n",
       "      <td>react</td>\n",
       "      <td>git</td>\n",
       "      <td></td>\n",
       "      <td>aws,apollo</td>\n",
       "      <td>machine learning</td>\n",
       "      <td>other</td>\n",
       "    </tr>\n",
       "    <tr>\n",
       "      <th>177</th>\n",
       "      <td>senior php developer 1</td>\n",
       "      <td>https://weworkremotely.com/remote-jobs/formida...</td>\n",
       "      <td>scala,go,java,php</td>\n",
       "      <td>jquery</td>\n",
       "      <td>git</td>\n",
       "      <td>mysql</td>\n",
       "      <td>ios,wordpress</td>\n",
       "      <td></td>\n",
       "      <td>senior</td>\n",
       "    </tr>\n",
       "  </tbody>\n",
       "</table>\n",
       "<p>178 rows × 9 columns</p>\n",
       "</div>"
      ],
      "text/plain": [
       "                                                 Title  \\\n",
       "0    superstar full stack developer your work will ...   \n",
       "1    source developer devops python django aws open...   \n",
       "2                   senior software engineer node js 1   \n",
       "3                       inc senior full stack engineer   \n",
       "4                    boss senior full stack engineer 1   \n",
       "..                                                 ...   \n",
       "173                          shopify developers needed   \n",
       "174                stack engineer for medical research   \n",
       "175                                llc react developer   \n",
       "176                           react apollo developer 1   \n",
       "177                             senior php developer 1   \n",
       "\n",
       "                                                  Link  \\\n",
       "0    https://weworkremotely.com/remote-jobs/country...   \n",
       "1    https://weworkremotely.com/remote-jobs/opencra...   \n",
       "2    https://weworkremotely.com/remote-jobs/float-c...   \n",
       "3    https://weworkremotely.com/remote-jobs/sofia-f...   \n",
       "4    https://weworkremotely.com/remote-jobs/follow-...   \n",
       "..                                                 ...   \n",
       "173  https://weworkremotely.com/remote-jobs/storeta...   \n",
       "174  https://weworkremotely.com/remote-jobs/curebas...   \n",
       "175  https://weworkremotely.com/remote-jobs/skapa-t...   \n",
       "176  https://weworkremotely.com/remote-jobs/onthego...   \n",
       "177  https://weworkremotely.com/remote-jobs/formida...   \n",
       "\n",
       "                                      Languages  \\\n",
       "0                       html,javascript,css,php   \n",
       "1                    html,python,javascript,css   \n",
       "2                                   graphql,sql   \n",
       "3    python,typescript,javascript,go,ruby,scala   \n",
       "4                        css,javascript,sql,php   \n",
       "..                                          ...   \n",
       "173                                               \n",
       "174                          graphql,javascript   \n",
       "175                    javascript,scala,sql,asp   \n",
       "176                          graphql,typescript   \n",
       "177                           scala,go,java,php   \n",
       "\n",
       "                     Web Frameworks              Libraries  \\\n",
       "0                            jquery                          \n",
       "1                      react,django            ansible,git   \n",
       "2                              node                          \n",
       "3    angular,django,react,ruby,node                          \n",
       "4                             react                          \n",
       "..                              ...                    ...   \n",
       "173                                                          \n",
       "174                   react,express                          \n",
       "175                           react  git,react native,.net   \n",
       "176                           react                    git   \n",
       "177                          jquery                    git   \n",
       "\n",
       "                                        Databases  \\\n",
       "0                                           mysql   \n",
       "1    mongodb,redis,elasticsearch,postgresql,mysql   \n",
       "2                             mysql,nosql,mongodb   \n",
       "3                                           redis   \n",
       "4                                     mysql,redis   \n",
       "..                                            ...   \n",
       "173                                                 \n",
       "174                                                 \n",
       "175                                         nosql   \n",
       "176                                                 \n",
       "177                                         mysql   \n",
       "\n",
       "                                 Platforms             Other Experience Level  \n",
       "0                        shopify,wordpress         ui,seo,ux           senior  \n",
       "1    linux,ios,android,docker,aws,rabbitmq                             senior  \n",
       "2                    aws,docker,kubernetes                             senior  \n",
       "3          windows,linux,ios,android,macos                             senior  \n",
       "4                                    linux                             senior  \n",
       "..                                     ...               ...              ...  \n",
       "173                                shopify                             senior  \n",
       "174                             aws,apollo                              other  \n",
       "175                                                                     other  \n",
       "176                             aws,apollo  machine learning            other  \n",
       "177                          ios,wordpress                             senior  \n",
       "\n",
       "[178 rows x 9 columns]"
      ]
     },
     "execution_count": 40,
     "metadata": {},
     "output_type": "execute_result"
    }
   ],
   "source": [
    "titles_links = [[title, link] for title,link in zip(titles,links)]\n",
    "df = pd.DataFrame(titles_links, columns = ['Title', 'Link'])\n",
    "\n",
    "df[\"Languages\"] = [\",\".join(techs) for techs in languages]\n",
    "df[\"Web Frameworks\"] = [\",\".join(techs) for techs in web_frameworks]\n",
    "df[\"Libraries\"] = [\",\".join(techs) for techs in libraries]\n",
    "df[\"Databases\"] = [\",\".join(techs) for techs in databases]\n",
    "df[\"Platforms\"] = [\",\".join(techs) for techs in platforms]\n",
    "df[\"Other\"] = [\",\".join(techs) for techs in other]\n",
    "\n",
    "df['Experience Level'] = [level for level in entry_levels_clean]\n",
    "df"
   ]
  },
  {
   "cell_type": "code",
   "execution_count": 42,
   "metadata": {},
   "outputs": [],
   "source": [
    "df.to_csv('dataframes/we-work-remotely.csv', index = False)"
   ]
  },
  {
   "cell_type": "markdown",
   "metadata": {},
   "source": [
    "## Create a dictionary to count the times a technology is required"
   ]
  },
  {
   "cell_type": "code",
   "execution_count": 41,
   "metadata": {
    "scrolled": true
   },
   "outputs": [],
   "source": [
    "def create_tech_dict(col_name,df):\n",
    "    technologies_set = df[col_name]\n",
    "    technologies_dict= {}\n",
    "    for technologies in technologies_set:\n",
    "        for technology in technologies.split(','):\n",
    "            if technology in technologies_dict.keys():\n",
    "                technologies_dict[technology] += 1\n",
    "            else:\n",
    "                technologies_dict[technology] =  1\n",
    "    return {key: value for key, value in sorted(technologies_dict.items(), key=lambda item: item[1])}"
   ]
  },
  {
   "cell_type": "code",
   "execution_count": 36,
   "metadata": {},
   "outputs": [
    {
     "data": {
      "text/plain": [
       "{'f#': 1,\n",
       " 'powershell': 1,\n",
       " 'elixir': 2,\n",
       " 'clojure': 2,\n",
       " 'bash': 3,\n",
       " 'objective c': 3,\n",
       " 'r': 3,\n",
       " 'kotlin': 4,\n",
       " 'asp': 5,\n",
       " 'golang': 6,\n",
       " 'shell': 6,\n",
       " 'swift': 9,\n",
       " 'c': 12,\n",
       " 'sass': 12,\n",
       " '': 13,\n",
       " 'php': 18,\n",
       " 'java': 22,\n",
       " 'typescript': 25,\n",
       " 'graphql': 27,\n",
       " 'go': 29,\n",
       " 'sql': 34,\n",
       " 'scala': 37,\n",
       " 'python': 38,\n",
       " 'rust': 38,\n",
       " 'html': 43,\n",
       " 'css': 52,\n",
       " 'ruby': 53,\n",
       " 'javascript': 86}"
      ]
     },
     "execution_count": 36,
     "metadata": {},
     "output_type": "execute_result"
    }
   ],
   "source": [
    "create_tech_dict('Libraries',df)\n",
    "create_tech_dict('Web Frameworks',df)\n",
    "create_tech_dict('Languages',df)\n",
    "# create_tech_dict('Databases',df)\n",
    "# create_tech_dict('Platforms',df)\n",
    "# create_tech_dict('Other',df)"
   ]
  },
  {
   "cell_type": "code",
   "execution_count": null,
   "metadata": {},
   "outputs": [],
   "source": []
  }
 ],
 "metadata": {
  "kernelspec": {
   "display_name": "Python 3.7.6 64-bit ('Ironhack': conda)",
   "language": "python",
   "name": "python37664bitironhackconda2e1d8dd202d44dc690958f22a90cf36f"
  }
 },
 "nbformat": 4,
 "nbformat_minor": 4
}
