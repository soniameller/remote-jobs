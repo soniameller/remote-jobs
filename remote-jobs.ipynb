{
 "cells": [
  {
   "cell_type": "code",
   "execution_count": 1,
   "metadata": {},
   "outputs": [],
   "source": [
    "import pandas as pd\n",
    "import numpy as np"
   ]
  },
  {
   "cell_type": "markdown",
   "metadata": {},
   "source": [
    "## Read the collected information"
   ]
  },
  {
   "cell_type": "markdown",
   "metadata": {},
   "source": [
    "**Remote Dataframes**:"
   ]
  },
  {
   "cell_type": "code",
   "execution_count": 2,
   "metadata": {},
   "outputs": [],
   "source": [
    "df_remote_io = pd.read_csv('dataframes/remote-io.csv')\n",
    "df_we_work_remotely = pd.read_csv('dataframes/we-work-remotely.csv')\n",
    "df_stackoverflow = pd.read_csv('dataframes/stackoverflow.csv')\n"
   ]
  },
  {
   "cell_type": "markdown",
   "metadata": {},
   "source": [
    "**Non Remote Dataframes**:"
   ]
  },
  {
   "cell_type": "code",
   "execution_count": 3,
   "metadata": {},
   "outputs": [
    {
     "data": {
      "text/plain": [
       "1680"
      ]
     },
     "execution_count": 3,
     "metadata": {},
     "output_type": "execute_result"
    }
   ],
   "source": [
    "df_non_remote_stackoverflow = pd.read_csv('dataframes/non-remote-stackoverflow.csv')\n",
    "# df_non_remote_stackoverflow\n",
    "len(df_non_remote_stackoverflow[\"Languages\"])\n",
    "len(df_remote_io[\"Languages\"])"
   ]
  },
  {
   "cell_type": "markdown",
   "metadata": {},
   "source": [
    "## Join REMOTE DataFrames"
   ]
  },
  {
   "cell_type": "code",
   "execution_count": 4,
   "metadata": {},
   "outputs": [
    {
     "data": {
      "text/plain": [
       "2033"
      ]
     },
     "execution_count": 4,
     "metadata": {},
     "output_type": "execute_result"
    }
   ],
   "source": [
    "df = pd.concat([df_remote_io, df_we_work_remotely],ignore_index = True)\n",
    "df = pd.concat([df, df_stackoverflow],ignore_index = True)\n",
    "len(df[\"Languages\"])"
   ]
  },
  {
   "cell_type": "markdown",
   "metadata": {},
   "source": [
    "## join all tech cols in single col"
   ]
  },
  {
   "cell_type": "code",
   "execution_count": 5,
   "metadata": {},
   "outputs": [],
   "source": [
    "tech_cols = list(df.columns)[2:-1]"
   ]
  },
  {
   "cell_type": "code",
   "execution_count": 6,
   "metadata": {},
   "outputs": [
    {
     "data": {
      "text/html": [
       "<div>\n",
       "<style scoped>\n",
       "    .dataframe tbody tr th:only-of-type {\n",
       "        vertical-align: middle;\n",
       "    }\n",
       "\n",
       "    .dataframe tbody tr th {\n",
       "        vertical-align: top;\n",
       "    }\n",
       "\n",
       "    .dataframe thead th {\n",
       "        text-align: right;\n",
       "    }\n",
       "</style>\n",
       "<table border=\"1\" class=\"dataframe\">\n",
       "  <thead>\n",
       "    <tr style=\"text-align: right;\">\n",
       "      <th></th>\n",
       "      <th>Title</th>\n",
       "      <th>Link</th>\n",
       "      <th>Technologies</th>\n",
       "      <th>Experience Level</th>\n",
       "    </tr>\n",
       "  </thead>\n",
       "  <tbody>\n",
       "    <tr>\n",
       "      <th>0</th>\n",
       "      <td>Senior Systems Administrator (Washington, D.C...</td>\n",
       "      <td>https://www.remote.io/job/4048/senior-systems-...</td>\n",
       "      <td>java,sass,c,shell, apache, mysql, aws,ios,amaz...</td>\n",
       "      <td>senior</td>\n",
       "    </tr>\n",
       "    <tr>\n",
       "      <th>1</th>\n",
       "      <td>Front-End Developer at Wallethub</td>\n",
       "      <td>https://www.remote.io/job/4047/front-end-devel...</td>\n",
       "      <td>php,html,javascript,c,css, angular</td>\n",
       "      <td>other</td>\n",
       "    </tr>\n",
       "    <tr>\n",
       "      <th>2</th>\n",
       "      <td>Part-Time Full Stack Web Developer with React...</td>\n",
       "      <td>https://www.remote.io/job/4046/part-time-full-...</td>\n",
       "      <td>bash,sass,html,javascript,shell,css,ruby, reac...</td>\n",
       "      <td>senior</td>\n",
       "    </tr>\n",
       "    <tr>\n",
       "      <th>3</th>\n",
       "      <td>Full Stack Developer (Remote United States) a...</td>\n",
       "      <td>https://www.remote.io/job/4045/full-stack-deve...</td>\n",
       "      <td>ruby, react,ruby</td>\n",
       "      <td>other</td>\n",
       "    </tr>\n",
       "    <tr>\n",
       "      <th>4</th>\n",
       "      <td>Medical Biller</td>\n",
       "      <td>https://www.remote.io/job/4044/medical-biller</td>\n",
       "      <td></td>\n",
       "      <td>other</td>\n",
       "    </tr>\n",
       "    <tr>\n",
       "      <th>...</th>\n",
       "      <td>...</td>\n",
       "      <td>...</td>\n",
       "      <td>...</td>\n",
       "      <td>...</td>\n",
       "    </tr>\n",
       "    <tr>\n",
       "      <th>2028</th>\n",
       "      <td>Senior React Native / Flutter Developer (Remote)</td>\n",
       "      <td>https://stackoverflow.com/jobs/200538/senior-r...</td>\n",
       "      <td>python,typescript,javascript, django,flask,exp...</td>\n",
       "      <td>senior</td>\n",
       "    </tr>\n",
       "    <tr>\n",
       "      <th>2029</th>\n",
       "      <td>Senior Software Engineer (Full Stack)</td>\n",
       "      <td>https://stackoverflow.com/jobs/376694/senior-s...</td>\n",
       "      <td>java,javascript, nosql,elasticsearch, docker,k...</td>\n",
       "      <td>senior</td>\n",
       "    </tr>\n",
       "    <tr>\n",
       "      <th>2030</th>\n",
       "      <td>Senior Mobile Engineer, Flutter</td>\n",
       "      <td>https://stackoverflow.com/jobs/375400/senior-m...</td>\n",
       "      <td>dart, flutter, ios,android</td>\n",
       "      <td>senior</td>\n",
       "    </tr>\n",
       "    <tr>\n",
       "      <th>2031</th>\n",
       "      <td>Sr. Software Engineer - Angular</td>\n",
       "      <td>https://stackoverflow.com/jobs/363678/sr-softw...</td>\n",
       "      <td>python,sql, angular, docker</td>\n",
       "      <td>senior</td>\n",
       "    </tr>\n",
       "    <tr>\n",
       "      <th>2032</th>\n",
       "      <td>Hardcore React Native and NodeJs application d...</td>\n",
       "      <td>https://stackoverflow.com/jobs/376595/hardcore...</td>\n",
       "      <td>javascript, node,react, react native, mysql</td>\n",
       "      <td>other</td>\n",
       "    </tr>\n",
       "  </tbody>\n",
       "</table>\n",
       "<p>2033 rows × 4 columns</p>\n",
       "</div>"
      ],
      "text/plain": [
       "                                                  Title  \\\n",
       "0      Senior Systems Administrator (Washington, D.C...   \n",
       "1                     Front-End Developer at Wallethub    \n",
       "2      Part-Time Full Stack Web Developer with React...   \n",
       "3      Full Stack Developer (Remote United States) a...   \n",
       "4                                       Medical Biller    \n",
       "...                                                 ...   \n",
       "2028   Senior React Native / Flutter Developer (Remote)   \n",
       "2029              Senior Software Engineer (Full Stack)   \n",
       "2030                    Senior Mobile Engineer, Flutter   \n",
       "2031                    Sr. Software Engineer - Angular   \n",
       "2032  Hardcore React Native and NodeJs application d...   \n",
       "\n",
       "                                                   Link  \\\n",
       "0     https://www.remote.io/job/4048/senior-systems-...   \n",
       "1     https://www.remote.io/job/4047/front-end-devel...   \n",
       "2     https://www.remote.io/job/4046/part-time-full-...   \n",
       "3     https://www.remote.io/job/4045/full-stack-deve...   \n",
       "4         https://www.remote.io/job/4044/medical-biller   \n",
       "...                                                 ...   \n",
       "2028  https://stackoverflow.com/jobs/200538/senior-r...   \n",
       "2029  https://stackoverflow.com/jobs/376694/senior-s...   \n",
       "2030  https://stackoverflow.com/jobs/375400/senior-m...   \n",
       "2031  https://stackoverflow.com/jobs/363678/sr-softw...   \n",
       "2032  https://stackoverflow.com/jobs/376595/hardcore...   \n",
       "\n",
       "                                           Technologies Experience Level  \n",
       "0     java,sass,c,shell, apache, mysql, aws,ios,amaz...           senior  \n",
       "1                    php,html,javascript,c,css, angular            other  \n",
       "2     bash,sass,html,javascript,shell,css,ruby, reac...           senior  \n",
       "3                                      ruby, react,ruby            other  \n",
       "4                                                                  other  \n",
       "...                                                 ...              ...  \n",
       "2028  python,typescript,javascript, django,flask,exp...           senior  \n",
       "2029  java,javascript, nosql,elasticsearch, docker,k...           senior  \n",
       "2030                         dart, flutter, ios,android           senior  \n",
       "2031                        python,sql, angular, docker           senior  \n",
       "2032        javascript, node,react, react native, mysql            other  \n",
       "\n",
       "[2033 rows x 4 columns]"
      ]
     },
     "execution_count": 6,
     "metadata": {},
     "output_type": "execute_result"
    }
   ],
   "source": [
    "all_techs_df = df.copy()\n",
    "all_techs_df['Technologies'] = all_techs_df[tech_cols].apply(lambda x: ', '.join(x[x.notnull()]), axis = 1)\n",
    "all_techs_df = all_techs_df[['Title','Link','Technologies','Experience Level']]\n",
    "all_techs_df"
   ]
  },
  {
   "cell_type": "markdown",
   "metadata": {},
   "source": [
    "## Dictionaries"
   ]
  },
  {
   "cell_type": "markdown",
   "metadata": {},
   "source": [
    "**Dict function**:"
   ]
  },
  {
   "cell_type": "code",
   "execution_count": 7,
   "metadata": {},
   "outputs": [],
   "source": [
    "def techs_to_dic(df,col_name):\n",
    "    technologies_set = df[col_name]\n",
    "\n",
    "    technologies_dict= {}\n",
    "\n",
    "    for technologies in technologies_set:\n",
    "        for technology in str(technologies).split(','):\n",
    "            if technology in technologies_dict.keys():\n",
    "                technologies_dict[technology] += 1\n",
    "            else:\n",
    "                technologies_dict[technology] =  1\n",
    "\n",
    "    technologies_dict_sorted = {k: v for k, v in sorted(technologies_dict.items(), key=lambda item: item[1])}\n",
    "    if 'nan' in technologies_dict_sorted.keys():\n",
    "        technologies_dict_sorted.pop('nan')\n",
    "    else:\n",
    "        pass\n",
    "    return technologies_dict_sorted"
   ]
  },
  {
   "cell_type": "markdown",
   "metadata": {},
   "source": [
    "**All possible remote dictionaries**"
   ]
  },
  {
   "cell_type": "code",
   "execution_count": 8,
   "metadata": {},
   "outputs": [
    {
     "data": {
      "text/plain": [
       "{'matlab': 1,\n",
       " 'vba': 1,\n",
       " 'assembly': 2,\n",
       " 'c++': 2,\n",
       " 'dart': 4,\n",
       " 'f#': 6,\n",
       " 'clojure': 7,\n",
       " 'elixir': 16,\n",
       " 'c#': 17,\n",
       " 'objective c': 24,\n",
       " 'powershell': 26,\n",
       " 'golang': 32,\n",
       " 'kotlin': 34,\n",
       " 'bash': 42,\n",
       " 'r': 42,\n",
       " 'swift': 51,\n",
       " 'asp': 62,\n",
       " 'shell': 68,\n",
       " 'graphql': 84,\n",
       " 'sass': 116,\n",
       " 'typescript': 126,\n",
       " 'php': 139,\n",
       " 'ruby': 209,\n",
       " 'go': 214,\n",
       " 'html': 253,\n",
       " 'c': 275,\n",
       " 'css': 275,\n",
       " 'java': 308,\n",
       " 'rust': 313,\n",
       " 'sql': 329,\n",
       " 'scala': 346,\n",
       " 'python': 382,\n",
       " 'javascript': 584}"
      ]
     },
     "execution_count": 8,
     "metadata": {},
     "output_type": "execute_result"
    }
   ],
   "source": [
    "languages_dict = techs_to_dic(df,'Languages')\n",
    "frameworks_dict = techs_to_dic(df,'Web Frameworks')\n",
    "libraries_dict = techs_to_dic(df,'Libraries')\n",
    "databases_dict = techs_to_dic(df,'Databases')\n",
    "platforms_dict = techs_to_dic(df,'Platforms')\n",
    "other_dict = techs_to_dic(df,'Other')\n",
    "experience_dict = techs_to_dic(df,'Experience Level')\n",
    "languages_dict"
   ]
  },
  {
   "cell_type": "markdown",
   "metadata": {},
   "source": [
    "**Non remote dictionaries**:"
   ]
  },
  {
   "cell_type": "code",
   "execution_count": 9,
   "metadata": {},
   "outputs": [],
   "source": [
    "non_remote_languages_dict = techs_to_dic(df_non_remote_stackoverflow,'Languages')\n",
    "non_remote_frameworks_dict = techs_to_dic(df_non_remote_stackoverflow,'Web Frameworks')\n",
    "non_remote_libraries_dict = techs_to_dic(df_non_remote_stackoverflow,'Libraries')\n",
    "non_remote_databases_dict = techs_to_dic(df_non_remote_stackoverflow,'Databases')\n",
    "non_remote_platforms_dict = techs_to_dic(df_non_remote_stackoverflow,'Platforms')\n",
    "non_remote_other_dict = techs_to_dic(df_non_remote_stackoverflow,'Other')\n",
    "non_remote_experience_dict = techs_to_dic(df_non_remote_stackoverflow,'Experience Level')\n",
    "# non_remote_languages_dict"
   ]
  },
  {
   "cell_type": "markdown",
   "metadata": {},
   "source": [
    "## List of top 5  languages"
   ]
  },
  {
   "cell_type": "markdown",
   "metadata": {},
   "source": [
    "**Remote**:"
   ]
  },
  {
   "cell_type": "code",
   "execution_count": 10,
   "metadata": {},
   "outputs": [
    {
     "data": {
      "text/plain": [
       "['javascript', 'python', 'scala', 'sql', 'rust']"
      ]
     },
     "execution_count": 10,
     "metadata": {},
     "output_type": "execute_result"
    }
   ],
   "source": [
    "top_5_techs = list(languages_dict.keys())[::-1][:5]\n",
    "top_5_techs"
   ]
  },
  {
   "cell_type": "markdown",
   "metadata": {},
   "source": [
    "**Non Remote**:"
   ]
  },
  {
   "cell_type": "code",
   "execution_count": 11,
   "metadata": {},
   "outputs": [
    {
     "data": {
      "text/plain": [
       "['javascript', 'java', 'python', 'c', 'php']"
      ]
     },
     "execution_count": 11,
     "metadata": {},
     "output_type": "execute_result"
    }
   ],
   "source": [
    "non_remote_top_5_techs = list(non_remote_languages_dict.keys())[::-1][:5]\n",
    "non_remote_top_5_techs"
   ]
  },
  {
   "cell_type": "markdown",
   "metadata": {},
   "source": [
    "## Replace nan with empty string"
   ]
  },
  {
   "cell_type": "code",
   "execution_count": 12,
   "metadata": {},
   "outputs": [
    {
     "data": {
      "text/plain": [
       "Title               0\n",
       "Link                0\n",
       "Languages           0\n",
       "Web Frameworks      0\n",
       "Libraries           0\n",
       "Databases           0\n",
       "Platforms           0\n",
       "Other               0\n",
       "Experience Level    0\n",
       "dtype: int64"
      ]
     },
     "execution_count": 12,
     "metadata": {},
     "output_type": "execute_result"
    }
   ],
   "source": [
    "df = df.replace(np.nan, '', regex=True)\n",
    "df[df['Languages'].isnull()]\n",
    "df.isna().sum() "
   ]
  },
  {
   "cell_type": "markdown",
   "metadata": {},
   "source": [
    "## Def functions : get_dummies & melt"
   ]
  },
  {
   "cell_type": "markdown",
   "metadata": {},
   "source": [
    "This function:\n",
    "- Takes an original df and the column to get the dummies from\n",
    "- Concatenates the original df \n",
    "- Erases the column the dummies where created from"
   ]
  },
  {
   "cell_type": "code",
   "execution_count": 13,
   "metadata": {},
   "outputs": [],
   "source": [
    "def get_dummies(df,col_name):\n",
    "    new_df = df[col_name].str.get_dummies(sep=\",\")\n",
    "    new_df = pd.concat([df[[\"Title\",\"Link\",\"Experience Level\"]],new_df], axis=1)\n",
    "    return new_df"
   ]
  },
  {
   "cell_type": "code",
   "execution_count": 14,
   "metadata": {},
   "outputs": [],
   "source": [
    "def melt_df(cols_list,dummies):\n",
    "    melted_df = pd.melt(dummies, id_vars = cols_list)\n",
    "    melted_df = melted_df[melted_df['value'] != 0]\n",
    "    del melted_df['value']\n",
    "    return melted_df"
   ]
  },
  {
   "cell_type": "markdown",
   "metadata": {},
   "source": [
    "## Get Dummies"
   ]
  },
  {
   "cell_type": "code",
   "execution_count": 15,
   "metadata": {},
   "outputs": [
    {
     "data": {
      "text/plain": [
       "['Languages', 'Web Frameworks', 'Libraries', 'Databases', 'Platforms', 'Other']"
      ]
     },
     "execution_count": 15,
     "metadata": {},
     "output_type": "execute_result"
    }
   ],
   "source": [
    "techs_columns = list(df.columns)[2:-1]\n",
    "techs_columns"
   ]
  },
  {
   "cell_type": "markdown",
   "metadata": {},
   "source": [
    "**Remote**:"
   ]
  },
  {
   "cell_type": "code",
   "execution_count": 16,
   "metadata": {},
   "outputs": [],
   "source": [
    "lang_dummies = get_dummies(df,techs_columns[0])\n",
    "web_dummies = get_dummies(df,techs_columns[1])\n",
    "lib_dummies = get_dummies(df,techs_columns[2])\n",
    "database_dummies = get_dummies(df,techs_columns[3])\n",
    "platform_dummies = get_dummies(df,techs_columns[4])\n",
    "other_dummies = get_dummies(df,techs_columns[5])"
   ]
  },
  {
   "cell_type": "markdown",
   "metadata": {},
   "source": [
    "**Non Remote**:"
   ]
  },
  {
   "cell_type": "code",
   "execution_count": 17,
   "metadata": {},
   "outputs": [],
   "source": [
    "non_remote_lang_dummies = get_dummies(df_non_remote_stackoverflow,techs_columns[0])\n",
    "non_remote_web_dummies = get_dummies(df_non_remote_stackoverflow,techs_columns[1])\n",
    "non_remote_lib_dummies = get_dummies(df_non_remote_stackoverflow,techs_columns[2])\n",
    "non_remote_database_dummies = get_dummies(df_non_remote_stackoverflow,techs_columns[3])\n",
    "non_remote_platform_dummies = get_dummies(df_non_remote_stackoverflow,techs_columns[4])\n",
    "non_remote_other_dummies = get_dummies(df_non_remote_stackoverflow,techs_columns[5])"
   ]
  },
  {
   "cell_type": "markdown",
   "metadata": {},
   "source": [
    "## Melted Dataframes"
   ]
  },
  {
   "cell_type": "markdown",
   "metadata": {},
   "source": [
    "**Remote**:"
   ]
  },
  {
   "cell_type": "code",
   "execution_count": 18,
   "metadata": {},
   "outputs": [],
   "source": [
    "melted_lang_df = melt_df(['Title',\"Link\",\"Experience Level\"],lang_dummies)\n",
    "melted_lang_df.columns = ['Title', 'Link',\"Experience Level\", techs_columns[0]]\n",
    "\n",
    "melted_web_df = melt_df(['Title',\"Link\",\"Experience Level\"],web_dummies)\n",
    "melted_web_df.columns = ['Title', 'Link',\"Experience Level\", techs_columns[1]]\n",
    "\n",
    "melted_lib_df = melt_df(['Title',\"Link\",\"Experience Level\"],lang_dummies)\n",
    "melted_lib_df.columns = ['Title', 'Link',\"Experience Level\", techs_columns[2]]\n",
    "\n",
    "melted_database_df = melt_df(['Title',\"Link\",\"Experience Level\"],database_dummies)\n",
    "melted_database_df.columns = ['Title', 'Link',\"Experience Level\", techs_columns[3]]\n",
    "\n",
    "melted_platform_df = melt_df(['Title',\"Link\",\"Experience Level\"],platform_dummies)\n",
    "melted_platform_df.columns = ['Title', 'Link',\"Experience Level\", techs_columns[4]]\n",
    "\n",
    "melted_other_df = melt_df(['Title',\"Link\",\"Experience Level\"],other_dummies)\n",
    "melted_other_df.columns = ['Title', 'Link',\"Experience Level\", techs_columns[5]]     \n"
   ]
  },
  {
   "cell_type": "markdown",
   "metadata": {},
   "source": [
    "**Remote all techs**:"
   ]
  },
  {
   "cell_type": "code",
   "execution_count": 19,
   "metadata": {},
   "outputs": [],
   "source": [
    "melted_all_techs_df = pd.concat([melted_lang_df.rename(columns={'Languages':'Technologies'}), melted_web_df.rename(columns={'Web Frameworks':'Technologies'}), melted_lib_df.rename(columns={'Libraries':'Technologies'}), melted_platform_df.rename(columns={'Platforms':'Technologies'}), melted_other_df.rename(columns={'Other':'Technologies'})], ignore_index=True)\n"
   ]
  },
  {
   "cell_type": "markdown",
   "metadata": {},
   "source": [
    "**Non Remote**:"
   ]
  },
  {
   "cell_type": "code",
   "execution_count": 20,
   "metadata": {},
   "outputs": [],
   "source": [
    "non_remote_melted_lang_df = melt_df(['Title',\"Link\",\"Experience Level\"],non_remote_lang_dummies)\n",
    "non_remote_melted_lang_df.columns = ['Title', 'Link',\"Experience Level\", techs_columns[0]]\n",
    "\n",
    "non_remote_melted_web_df = melt_df(['Title',\"Link\",\"Experience Level\"],non_remote_web_dummies)\n",
    "non_remote_melted_web_df.columns = ['Title', 'Link',\"Experience Level\", techs_columns[1]]\n",
    "\n",
    "non_remote_melted_lib_df = melt_df(['Title',\"Link\",\"Experience Level\"],non_remote_lang_dummies)\n",
    "non_remote_melted_lib_df.columns = ['Title', 'Link',\"Experience Level\", techs_columns[2]]\n",
    "\n",
    "non_remote_melted_database_df = melt_df(['Title',\"Link\",\"Experience Level\"],non_remote_database_dummies)\n",
    "non_remote_melted_database_df.columns = ['Title', 'Link',\"Experience Level\", techs_columns[3]]\n",
    "\n",
    "non_remote_melted_platform_df = melt_df(['Title',\"Link\",\"Experience Level\"],non_remote_platform_dummies)\n",
    "non_remote_melted_platform_df.columns = ['Title', 'Link',\"Experience Level\", techs_columns[4]]\n",
    "\n",
    "non_remote_melted_other_df = melt_df(['Title',\"Link\",\"Experience Level\"],non_remote_other_dummies)\n",
    "non_remote_melted_other_df.columns = ['Title', 'Link',\"Experience Level\", techs_columns[5]]                   "
   ]
  },
  {
   "cell_type": "markdown",
   "metadata": {},
   "source": [
    "## VISUALIZATION 🙌🏼"
   ]
  },
  {
   "cell_type": "code",
   "execution_count": 21,
   "metadata": {},
   "outputs": [],
   "source": [
    "import matplotlib.pyplot as plt \n",
    "import seaborn as sb"
   ]
  },
  {
   "cell_type": "markdown",
   "metadata": {},
   "source": [
    "## Top 5 techs"
   ]
  },
  {
   "cell_type": "code",
   "execution_count": 22,
   "metadata": {},
   "outputs": [],
   "source": [
    "def plot_vertical_bar(col_name,df,nb_of_techs=5,color='tan'):\n",
    "    top_techs = pd.DataFrame(df[col_name].value_counts())[:nb_of_techs]\n",
    "    plt.bar(top_techs.index,top_techs[col_name], color =color)\n",
    "\n",
    "    plt.show()\n",
    "    \n",
    "def plot_horizontal_bar(col_name,df,nb_of_techs=5,color='tan'):\n",
    "    top_techs = pd.DataFrame(df[col_name].value_counts())[:nb_of_techs]\n",
    "    x = top_techs.index[::-1]\n",
    "    energy = top_techs[col_name][::-1]\n",
    "    x_pos = [i for i, _ in enumerate(x)]\n",
    "    plt.barh(x_pos, energy, color=color)\n",
    "    plt.yticks(x_pos, x)\n",
    "\n",
    "    plt.show()"
   ]
  },
  {
   "cell_type": "markdown",
   "metadata": {},
   "source": [
    "### Languages"
   ]
  },
  {
   "cell_type": "markdown",
   "metadata": {},
   "source": [
    "**Remote**:"
   ]
  },
  {
   "cell_type": "code",
   "execution_count": 23,
   "metadata": {},
   "outputs": [
    {
     "data": {
      "image/png": "[encoded data removed]",
      "text/plain": [
       "<Figure size 432x288 with 1 Axes>"
      ]
     },
     "metadata": {
      "needs_background": "light"
     },
     "output_type": "display_data"
    }
   ],
   "source": [
    "plot_horizontal_bar(\"Languages\",melted_lang_df)"
   ]
  },
  {
   "cell_type": "markdown",
   "metadata": {},
   "source": [
    "**Non Remote**:"
   ]
  },
  {
   "cell_type": "code",
   "execution_count": 24,
   "metadata": {},
   "outputs": [
    {
     "data": {
      "image/png": "[encoded data removed]",
      "text/plain": [
       "<Figure size 432x288 with 1 Axes>"
      ]
     },
     "metadata": {
      "needs_background": "light"
     },
     "output_type": "display_data"
    }
   ],
   "source": [
    "plot_horizontal_bar(\"Languages\",non_remote_melted_lang_df)"
   ]
  },
  {
   "cell_type": "markdown",
   "metadata": {},
   "source": [
    "### FrameWorks"
   ]
  },
  {
   "cell_type": "markdown",
   "metadata": {},
   "source": [
    "**Remote**:"
   ]
  },
  {
   "cell_type": "code",
   "execution_count": 25,
   "metadata": {},
   "outputs": [
    {
     "data": {
      "image/png": "[encoded data removed]",
      "text/plain": [
       "<Figure size 432x288 with 1 Axes>"
      ]
     },
     "metadata": {
      "needs_background": "light"
     },
     "output_type": "display_data"
    }
   ],
   "source": [
    "plot_horizontal_bar(\"Web Frameworks\",melted_web_df,color='silver')\n"
   ]
  },
  {
   "cell_type": "markdown",
   "metadata": {},
   "source": [
    "**Non Remote**:"
   ]
  },
  {
   "cell_type": "code",
   "execution_count": 26,
   "metadata": {},
   "outputs": [
    {
     "data": {
      "image/png": "[encoded data removed]",
      "text/plain": [
       "<Figure size 432x288 with 1 Axes>"
      ]
     },
     "metadata": {
      "needs_background": "light"
     },
     "output_type": "display_data"
    }
   ],
   "source": [
    "plot_horizontal_bar(\"Web Frameworks\",non_remote_melted_web_df,color=\"silver\")\n"
   ]
  },
  {
   "cell_type": "markdown",
   "metadata": {},
   "source": [
    "### Databases"
   ]
  },
  {
   "cell_type": "markdown",
   "metadata": {},
   "source": [
    "**Remote**:"
   ]
  },
  {
   "cell_type": "code",
   "execution_count": 27,
   "metadata": {},
   "outputs": [
    {
     "data": {
      "image/png": "[encoded data removed]",
      "text/plain": [
       "<Figure size 432x288 with 1 Axes>"
      ]
     },
     "metadata": {
      "needs_background": "light"
     },
     "output_type": "display_data"
    }
   ],
   "source": [
    "plot_horizontal_bar(\"Databases\",melted_database_df,color=\"peru\")\n"
   ]
  },
  {
   "cell_type": "markdown",
   "metadata": {},
   "source": [
    "**Non Remote**:"
   ]
  },
  {
   "cell_type": "code",
   "execution_count": 28,
   "metadata": {},
   "outputs": [
    {
     "data": {
      "image/png": "[encoded data removed]",
      "text/plain": [
       "<Figure size 432x288 with 1 Axes>"
      ]
     },
     "metadata": {
      "needs_background": "light"
     },
     "output_type": "display_data"
    }
   ],
   "source": [
    "plot_horizontal_bar(\"Databases\",non_remote_melted_database_df, color= \"peru\")\n"
   ]
  },
  {
   "cell_type": "markdown",
   "metadata": {},
   "source": [
    "## Get specific technology related techs"
   ]
  },
  {
   "cell_type": "code",
   "execution_count": null,
   "metadata": {},
   "outputs": [],
   "source": [
    "input_tech = input(\"Imput technology name:\")"
   ]
  },
  {
   "cell_type": "markdown",
   "metadata": {},
   "source": [
    "## All related technologies:"
   ]
  },
  {
   "cell_type": "code",
   "execution_count": null,
   "metadata": {},
   "outputs": [],
   "source": [
    "filtered_by_tech = all_techs_df[all_techs_df['Technologies'].str.contains(input_tech)]\n",
    "filtered_by_tech_dummies = get_dummies(filtered_by_tech,'Technologies')\n",
    "filtered_by_tech_melted = melt_df(['Title','Link','Experience Level'],filtered_by_tech_dummies)\n",
    "filtered_by_tech_melted.columns = ['Title', 'Link', 'Experience Level','Technology']\n",
    "\n",
    "nb_of_techs = 5\n",
    "top_techs = pd.DataFrame(filtered_by_tech_melted['Technology'].value_counts())[:nb_of_techs]\n",
    "\n",
    "bar_chart = plt.bar(top_techs.index,top_techs.Technology, color ='tan')\n",
    "\n",
    "plt.show()"
   ]
  },
  {
   "cell_type": "markdown",
   "metadata": {},
   "source": [
    "## Funtion for lang piechart"
   ]
  },
  {
   "cell_type": "code",
   "execution_count": null,
   "metadata": {},
   "outputs": [],
   "source": [
    "def data_by_techtype(df,tech_col_name,tech_user_input):\n",
    "    filtered_by_tech = df[df[tech_col_name].str.contains(tech_user_input)]\n",
    "    filtered_by_tech_dummies = get_dummies(filtered_by_tech,tech_col_name)\n",
    "    filtered_by_tech_melted = melt_df(['Title','Link','Experience Level'],filtered_by_tech_dummies)\n",
    "    filtered_by_tech_melted.columns = ['Title', 'Link', 'Experience Level','Technology']\n",
    "    filtered_by_tech_melted = filtered_by_tech_melted[filtered_by_tech_melted.Technology != tech_user_input ]\n",
    "\n",
    "    only_tech_count = filtered_by_tech_dummies[ filtered_by_tech_dummies.sum(axis = 1) == 1]\n",
    "    only_tech_count = only_tech_count.shape[0]\n",
    "    only_tech_count\n",
    "    return {\"dataframe\":pd.DataFrame(filtered_by_tech_melted['Technology'].value_counts()), \"only_tech_count\":only_tech_count}\n",
    "    \n",
    "def separate_small_groups(data_by_tech):\n",
    "    lang_top_techs_dic = data_by_tech[\"dataframe\"].to_dict()\n",
    "    lang_top_techs_dic = lang_top_techs_dic[\"Technology\"]\n",
    "\n",
    "    psum = sum(lang_top_techs_dic.values())\n",
    "    pthreshold = psum * 0.075\n",
    "    \n",
    "    includedict = dict((k,v) for (k,v) in lang_top_techs_dic.items() if v >= pthreshold)\n",
    "    others = dict((k,v) for (k,v) in lang_top_techs_dic.items() if v < pthreshold)\n",
    "\n",
    "    others_sum = sum(others.values())\n",
    "    others = {\"others\": others_sum}\n",
    "    includedict.update(others)\n",
    "    includedict.update({\"only \" +input_lang:lang_top_techs[\"only_tech_count\"]})\n",
    "\n",
    "    return includedict\n",
    "\n",
    "def pie_chart(dictionary):\n",
    "    labels = dictionary.keys()\n",
    "\n",
    "    sizes = dictionary.values()\n",
    "\n",
    "    colors = ['peru', 'tan', 'moccasin','orange','lightgray','pink','lightyellow']\n",
    "\n",
    "    plt.pie(sizes, labels=labels, colors=colors,\n",
    "    autopct='%1.1f%%', shadow=True, startangle=140)\n",
    "    plt.axis('equal')\n",
    "    plt.show()"
   ]
  },
  {
   "cell_type": "markdown",
   "metadata": {},
   "source": [
    "## Language input"
   ]
  },
  {
   "cell_type": "code",
   "execution_count": null,
   "metadata": {},
   "outputs": [],
   "source": [
    "input_lang = input(\"Imput technology name:\")"
   ]
  },
  {
   "cell_type": "markdown",
   "metadata": {},
   "source": [
    "## Funtion for other techs by lang"
   ]
  },
  {
   "cell_type": "code",
   "execution_count": null,
   "metadata": {},
   "outputs": [],
   "source": [
    "def techs_by_language(tech_category):\n",
    "    filtered_by_tech = df[df[\"Languages\"].str.contains(input_lang)]\n",
    "    filtered_by_tech_dummies = get_dummies(filtered_by_tech,tech_category)\n",
    "    filtered_by_tech_melted = melt_df(['Title','Link','Experience Level'],filtered_by_tech_dummies)\n",
    "    filtered_by_tech_melted.columns = ['Title', 'Link', 'Experience Level','Technology']\n",
    "    filtered_by_tech_melted = filtered_by_tech_melted[filtered_by_tech_melted.Technology != input_lang ]\n",
    "\n",
    "    framework_by_lang_df = pd.DataFrame(filtered_by_tech_melted['Technology'].value_counts())\n",
    "\n",
    "    lang_top_techs_dic = framework_by_lang_df.to_dict()\n",
    "    lang_top_techs_dic = lang_top_techs_dic[\"Technology\"]\n",
    "    return lang_top_techs_dic\n",
    "\n",
    "def techs_by_language_chart_dict(lang_top_techs_dic):\n",
    "    psum = sum(lang_top_techs_dic.values())\n",
    "    pthreshold = psum * 0.075\n",
    "    \n",
    "    includedict = dict((k,v) for (k,v) in lang_top_techs_dic.items() if v >= pthreshold)\n",
    "    others = dict((k,v) for (k,v) in lang_top_techs_dic.items() if v < pthreshold)\n",
    "\n",
    "    others_sum = sum(others.values())\n",
    "    others = {\"others\": others_sum}\n",
    "    includedict.update(others)\n",
    "    return includedict\n",
    "    "
   ]
  },
  {
   "cell_type": "markdown",
   "metadata": {},
   "source": [
    "## Language by language chart"
   ]
  },
  {
   "cell_type": "code",
   "execution_count": null,
   "metadata": {},
   "outputs": [],
   "source": [
    "lang_top_techs = data_by_techtype(df,\"Languages\",input_lang)\n",
    "lang_dict = separate_small_groups(lang_top_techs)\n",
    "pie_chart(lang_dict)\n",
    "input_lang"
   ]
  },
  {
   "cell_type": "markdown",
   "metadata": {},
   "source": [
    "## Other techs by language"
   ]
  },
  {
   "cell_type": "markdown",
   "metadata": {},
   "source": [
    "**Framework**:"
   ]
  },
  {
   "cell_type": "code",
   "execution_count": null,
   "metadata": {},
   "outputs": [],
   "source": [
    "framework_dic = techs_by_language(\"Web Frameworks\")\n",
    "framework_dic_fot_chart = techs_by_language_chart_dict(framework_dic)\n",
    "pie_chart(framework_dic_fot_chart)\n"
   ]
  },
  {
   "cell_type": "markdown",
   "metadata": {},
   "source": [
    "**Databases**:"
   ]
  },
  {
   "cell_type": "code",
   "execution_count": null,
   "metadata": {},
   "outputs": [],
   "source": [
    "database_dic = techs_by_language(\"Databases\")\n",
    "database_dic_for_chart = techs_by_language_chart_dict(database_dic)\n",
    "pie_chart(database_dic_for_chart)"
   ]
  },
  {
   "cell_type": "code",
   "execution_count": null,
   "metadata": {},
   "outputs": [],
   "source": [
    "libraries_dic = techs_by_language(\"Libraries\")\n",
    "libraries_dic_fot_chart = techs_by_language_chart_dict(libraries_dic)\n",
    "pie_chart(libraries_dic_fot_chart)"
   ]
  },
  {
   "cell_type": "code",
   "execution_count": null,
   "metadata": {},
   "outputs": [],
   "source": [
    "platforms_dic = techs_by_language(\"Platforms\")\n",
    "platforms_dic_fot_chart = techs_by_language_chart_dict(platforms_dic)\n",
    "pie_chart(platforms_dic_fot_chart)"
   ]
  },
  {
   "cell_type": "code",
   "execution_count": null,
   "metadata": {},
   "outputs": [],
   "source": [
    "other_dic = techs_by_language(\"Other\")\n",
    "other_dic_fot_chart = techs_by_language_chart_dict(other_dic)\n",
    "pie_chart(other_dic_fot_chart)"
   ]
  },
  {
   "cell_type": "markdown",
   "metadata": {},
   "source": [
    "## Diferenciated by level"
   ]
  },
  {
   "cell_type": "code",
   "execution_count": null,
   "metadata": {},
   "outputs": [],
   "source": [
    "df_by_level = all_techs_df[['Experience Level','Title']].groupby(['Experience Level']).count()\n",
    "\n",
    "plt.bar(df_by_level.index,df_by_level.Title, color ='tan')\n",
    "\n",
    "plt.show()\n",
    "\n",
    "df_by_level\n",
    "df_by_level.Title"
   ]
  },
  {
   "cell_type": "code",
   "execution_count": null,
   "metadata": {},
   "outputs": [],
   "source": [
    "\n",
    "labels = df_by_level.index\n",
    "\n",
    "sizes = df_by_level.Title\n",
    "\n",
    "colors = ['peru', 'tan', 'moccasin']\n",
    "\n",
    "plt.pie(sizes, labels=labels, colors=colors,\n",
    "autopct='%1.1f%%', shadow=True, startangle=140)\n",
    "\n",
    "plt.axis('equal')\n",
    "plt.show()"
   ]
  },
  {
   "cell_type": "markdown",
   "metadata": {},
   "source": [
    "## Junior top 10 df"
   ]
  },
  {
   "cell_type": "code",
   "execution_count": null,
   "metadata": {},
   "outputs": [],
   "source": [
    "junior_df = df[df['Experience Level'] == 'junior']\n",
    "junior_lang_df = junior_df[['Title','Link',\"Languages\",\"Experience Level\"]]\n",
    "\n",
    "\n",
    "junior_df_dummies = get_dummies(junior_lang_df,'Languages')\n",
    "junior_df_dummies\n",
    "\n",
    "junior_df_melted = melt_df(['Title',\"Link\",\"Experience Level\"],junior_df_dummies)\n",
    "junior_df_melted\n",
    "\n",
    "junior_top10_df = pd.DataFrame(junior_df_melted['variable'].value_counts()[:10])\n",
    "\n",
    "\n",
    "plt.xticks(rotation='vertical')\n",
    "plt.bar(junior_top10_df.index,junior_top10_df.variable, color ='tan')\n",
    "\n",
    "plt.show()\n",
    "\n"
   ]
  },
  {
   "cell_type": "markdown",
   "metadata": {},
   "source": [
    "## Senior techs based in junior techs"
   ]
  },
  {
   "cell_type": "code",
   "execution_count": null,
   "metadata": {},
   "outputs": [],
   "source": [
    "junior_df  = junior_top10_df\n",
    "junior_top_10_techs = list(junior_df.index)\n",
    "\n",
    "sr_db= df[df['Experience Level'] == 'senior']\n",
    "sr_db\n",
    "\n",
    "senior_df_dummies = get_dummies(sr_db,'Languages')\n",
    "senior_df_dummies\n",
    "\n",
    "senior_df_melted = melt_df(['Title',\"Link\",\"Experience Level\"],senior_df_dummies)\n",
    "senior_df_melted\n",
    "\n",
    "sr_from_jr_df = senior_df_melted[senior_df_melted['variable'].isin(junior_top_10_techs)]\n",
    "\n",
    "sr_from_jr_top10_df = pd.DataFrame(sr_from_jr_df['variable'].value_counts())\n",
    "sr_from_jr_top10_df\n",
    "\n",
    "\n",
    "plt.xticks(rotation='vertical')\n",
    "\n",
    "plt.bar(sr_from_jr_top10_df.index,sr_from_jr_top10_df.variable, color ='tan')\n",
    "\n",
    "\n",
    "plt.show()\n"
   ]
  },
  {
   "cell_type": "markdown",
   "metadata": {},
   "source": [
    "## Other techs based in junior techs"
   ]
  },
  {
   "cell_type": "code",
   "execution_count": null,
   "metadata": {},
   "outputs": [],
   "source": [
    "junior_df  = junior_top10_df\n",
    "junior_top_10_techs = list(junior_df.index)\n",
    "\n",
    "sr_db= df[df['Experience Level'] == 'other']\n",
    "sr_db\n",
    "\n",
    "other_df_dummies = get_dummies(sr_db,'Languages')\n",
    "other_df_dummies\n",
    "\n",
    "other_df_melted = melt_df(['Title',\"Link\",\"Experience Level\"],other_df_dummies)\n",
    "other_df_melted\n",
    "\n",
    "other_from_jr_df = other_df_melted[other_df_melted['variable'].isin(junior_top_10_techs)]\n",
    "\n",
    "others_from_jr_top10_df = pd.DataFrame(other_from_jr_df['variable'].value_counts())\n",
    "others_from_jr_top10_df\n",
    "\n",
    "\n",
    "plt.xticks(rotation='vertical')\n",
    "\n",
    "plt.bar(sr_from_jr_top10_df.index,sr_from_jr_top10_df.variable, color ='tan')\n",
    "\n",
    "\n",
    "plt.show()\n",
    "others_from_jr_top10_df"
   ]
  },
  {
   "cell_type": "markdown",
   "metadata": {},
   "source": [
    "## Stacked bar"
   ]
  },
  {
   "cell_type": "code",
   "execution_count": null,
   "metadata": {},
   "outputs": [],
   "source": [
    "N = 10\n",
    "junior_tech = tuple(junior_top10_df['variable'])\n",
    "senior_tech = tuple(sr_from_jr_top10_df['variable'])\n",
    "other_tech = tuple(others_from_jr_top10_df['variable'])\n",
    "ind = np.arange(N)    # the x locations for the groups\n",
    "width = 0.35       # the width of the bars: can also be len(x) sequence\n",
    "colors = ['peru', 'tan', 'moccasin']\n",
    "\n",
    "p1 = plt.bar(ind, junior_tech, width, color=colors[0])\n",
    "p2 = plt.bar(ind, senior_tech, width,\n",
    "             bottom=junior_tech,color=colors[1])\n",
    "p3 = plt.bar(ind , other_tech, width, bottom = senior_tech,color=colors[2])\n",
    "\n",
    "plt.ylabel('Nb of job offers')\n",
    "# plt.title('Technologies by level of experience')\n",
    "plt.xticks(ind, tuple(junior_top10_df.index), rotation = 'vertical')\n",
    "plt.legend((p1[0], p2[0], p3[0]),('Junior', 'Senior','Other'))\n",
    "\n",
    "plt.show()"
   ]
  },
  {
   "cell_type": "markdown",
   "metadata": {},
   "source": [
    "## Find related technologies for the top 5 languages"
   ]
  },
  {
   "cell_type": "code",
   "execution_count": null,
   "metadata": {},
   "outputs": [],
   "source": [
    "# tech1 = melted_df[melted_df['Technology'].str.contains(top_5_techs[0])]\n",
    "# tech2 = melted_df[melted_df['Technology'] == top_5_techs[1]]\n",
    "# tech3 = melted_df[melted_df['Technology'].str.contains(top_5_techs[2])]\n",
    "# tech4 = melted_df[melted_df['Technology'].str.contains(top_5_techs[3])]\n",
    "# tech5 = melted_df[melted_df['Technology'].str.contains(top_5_techs[4])]"
   ]
  },
  {
   "cell_type": "code",
   "execution_count": null,
   "metadata": {},
   "outputs": [],
   "source": [
    "# tech1_group = tech1.groupby(['Technology','Experience Level']).count()\n",
    "# del tech1_group['Link']\n",
    "# tech1_group\n",
    "\n",
    "# tech2_group = tech2.groupby(['Technology','Experience Level']).count()\n",
    "# del tech2_group['Link']\n",
    "# tech2_group\n",
    "\n",
    "# tech3_group = tech3.groupby(['Technology','Experience Level']).count()\n",
    "# del tech3_group['Link']\n",
    "# tech3_group\n",
    "\n",
    "# tech4_group = tech4.groupby(['Technology','Experience Level']).count()\n",
    "# del tech4_group['Link']\n",
    "# tech4_group\n",
    "\n",
    "# tech5_group = tech5.groupby(['Technology','Experience Level']).count()\n",
    "# del tech5_group['Link']\n",
    "# tech5_group\n",
    "\n",
    "\n",
    "# print(tech1_group)\n",
    "# print(tech2_group)\n",
    "# print(tech3_group)\n",
    "# print(tech4_group)\n",
    "# print(tech5_group)\n"
   ]
  },
  {
   "cell_type": "markdown",
   "metadata": {},
   "source": [
    "## Display info to search for a Job"
   ]
  },
  {
   "cell_type": "code",
   "execution_count": null,
   "metadata": {},
   "outputs": [],
   "source": [
    "language = input(\"Choose programming language:\")"
   ]
  },
  {
   "cell_type": "code",
   "execution_count": null,
   "metadata": {},
   "outputs": [],
   "source": [
    "result_df = junior_lang_df[junior_lang_df['Languages'].str.contains(language)]\n",
    "result_df[['Title','Link','Languages']]"
   ]
  },
  {
   "cell_type": "code",
   "execution_count": null,
   "metadata": {},
   "outputs": [],
   "source": []
  }
 ],
 "metadata": {
  "kernelspec": {
   "display_name": "Python 3.7.6 64-bit ('Ironhack': conda)",
   "language": "python",
   "name": "python37664bitironhackconda2e1d8dd202d44dc690958f22a90cf36f"
  },
  "language_info": {
   "codemirror_mode": {
    "name": "ipython",
    "version": 3
   },
   "file_extension": ".py",
   "mimetype": "text/x-python",
   "name": "python",
   "nbconvert_exporter": "python",
   "pygments_lexer": "ipython3",
   "version": "3.7.6"
  }
 },
 "nbformat": 4,
 "nbformat_minor": 4
}
